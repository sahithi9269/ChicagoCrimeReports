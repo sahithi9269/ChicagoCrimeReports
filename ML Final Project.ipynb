{
 "cells": [
  {
   "cell_type": "markdown",
   "metadata": {
    "id": "sfdsKrZFexx_"
   },
   "source": [
    "### Data\n",
    "https://data.cityofchicago.org/Public-Safety/Crimes-2001-to-Present/ijzp-q8t2\n",
    "### Objective:\n",
    "This dataset includes reported incidents of crime (with the exception of murders, for which data is available for each victim) that occurred in the City of Chicago between 2001 and the present, minus the most recent seven days. The information is derived from the Chicago Police Department's CLEAR (Citizen Law Enforcement Analysis and Reporting) system. Addresses are shown at the block level only to protect the privacy of crime victims, and specific locations are not identified.\n",
    "### Data Description\n",
    "1. ID -  Unique identifier for the record. \n",
    "2. Case Number - The Chicago Police Department RD Number\n",
    "3. Date - Date when the incident occurred. this is sometimes a best estimate.\n",
    "4. Block - The partially redacted address where the incident occurred.\n",
    "5. IUCR - The Illinois Unifrom Crime Reporting code.\n",
    "6. Primary Type - The primary description of the IUCR code.\n",
    "7. Description - The secondary description of the IUCR code, a subcategory of the primary description.\n",
    "8.  Location Description - Description of the location where the incident occurred.\n",
    "9. Arrest - Indicates whether an arrest was made.\n",
    "10. Domestic - Indicates whether the incident was domestic-related as defined by the Illinois Domestic Violence Act.\n",
    "11. Beat - Indicates the beat where the incident occurred.\n",
    "12. District - Indicates the police district where the incident occurred.\n",
    "13. Ward - The ward (City Council district) where the incident occurred.\n",
    "14. Community Area - Indicates the community area where the incident occurred.\n",
    "15. FBI Code - Indicates the crime classification as outlined in the FBI's National Incident-Based Reporting System (NIBRS).\n",
    "16. X Coordinate - The x coordinate of the location where the incident occurred\n",
    "17. Y Coordinate - The y coordinate of the location where the incident occurred\n",
    "18. Year - Year the incident occurred.\n",
    "19. Updated On - Date and time the record was last updated.\n",
    "20. Latitude - The latitude of the location where the incident occurred\n",
    "21. Longitude - The longitude of the location where the incident occurred. \n",
    "22. The location where the incident occurred in a format that allows for creation of maps and other geographic operations on this data portal. "
   ]
  },
  {
   "cell_type": "markdown",
   "metadata": {},
   "source": [
    "### Basic Analysis"
   ]
  },
  {
   "cell_type": "markdown",
   "metadata": {
    "id": "ghi2jNcLkc88"
   },
   "source": [
    "### Importing Required Libraries"
   ]
  },
  {
   "cell_type": "code",
   "execution_count": 1,
   "metadata": {
    "id": "5gHaqn_Heu0c"
   },
   "outputs": [],
   "source": [
    "import pandas as pd\n",
    "import numpy as np\n",
    "import matplotlib.pyplot as plt\n",
    "import seaborn as sns\n",
    "import warnings\n",
    "warnings.filterwarnings('ignore') "
   ]
  },
  {
   "cell_type": "markdown",
   "metadata": {
    "id": "DMRExDhJlJ5y"
   },
   "source": [
    "### Chunking the data "
   ]
  },
  {
   "cell_type": "code",
   "execution_count": 2,
   "metadata": {
    "id": "2AY-zYwje_3W"
   },
   "outputs": [],
   "source": [
    "raw_data=pd.read_csv(\"Crimes_-_2001_to_Present.csv\",low_memory=False,chunksize=100000)\n",
    "\n",
    "dfList = []\n",
    "for i in raw_data:\n",
    "    dfList.append(i)\n",
    "    break\n",
    "    \n",
    "Crimes_Data = pd.concat(dfList,sort=False)"
   ]
  },
  {
   "cell_type": "code",
   "execution_count": 3,
   "metadata": {
    "id": "3YovHWKdmJHG"
   },
   "outputs": [],
   "source": [
    "Crimes_Data.to_csv(\"Chicago_Crimes_Filtered_Data\")"
   ]
  },
  {
   "cell_type": "markdown",
   "metadata": {},
   "source": [
    "### Working with new dataframe"
   ]
  },
  {
   "cell_type": "code",
   "execution_count": 4,
   "metadata": {
    "colab": {
     "base_uri": "https://localhost:8080/",
     "height": 474
    },
    "id": "SlGhoS-RmRj7",
    "outputId": "5ca96148-f04f-40d8-c1f1-dd231ef42855",
    "scrolled": true
   },
   "outputs": [
    {
     "data": {
      "text/html": [
       "<div>\n",
       "<style scoped>\n",
       "    .dataframe tbody tr th:only-of-type {\n",
       "        vertical-align: middle;\n",
       "    }\n",
       "\n",
       "    .dataframe tbody tr th {\n",
       "        vertical-align: top;\n",
       "    }\n",
       "\n",
       "    .dataframe thead th {\n",
       "        text-align: right;\n",
       "    }\n",
       "</style>\n",
       "<table border=\"1\" class=\"dataframe\">\n",
       "  <thead>\n",
       "    <tr style=\"text-align: right;\">\n",
       "      <th></th>\n",
       "      <th>ID</th>\n",
       "      <th>Case Number</th>\n",
       "      <th>Date</th>\n",
       "      <th>Block</th>\n",
       "      <th>IUCR</th>\n",
       "      <th>Primary Type</th>\n",
       "      <th>Description</th>\n",
       "      <th>Location Description</th>\n",
       "      <th>Arrest</th>\n",
       "      <th>Domestic</th>\n",
       "      <th>...</th>\n",
       "      <th>Ward</th>\n",
       "      <th>Community Area</th>\n",
       "      <th>FBI Code</th>\n",
       "      <th>X Coordinate</th>\n",
       "      <th>Y Coordinate</th>\n",
       "      <th>Year</th>\n",
       "      <th>Updated On</th>\n",
       "      <th>Latitude</th>\n",
       "      <th>Longitude</th>\n",
       "      <th>Location</th>\n",
       "    </tr>\n",
       "  </thead>\n",
       "  <tbody>\n",
       "    <tr>\n",
       "      <th>0</th>\n",
       "      <td>10224738</td>\n",
       "      <td>HY411648</td>\n",
       "      <td>09/05/2015 01:30:00 PM</td>\n",
       "      <td>043XX S WOOD ST</td>\n",
       "      <td>0486</td>\n",
       "      <td>BATTERY</td>\n",
       "      <td>DOMESTIC BATTERY SIMPLE</td>\n",
       "      <td>RESIDENCE</td>\n",
       "      <td>False</td>\n",
       "      <td>True</td>\n",
       "      <td>...</td>\n",
       "      <td>12.0</td>\n",
       "      <td>61.0</td>\n",
       "      <td>08B</td>\n",
       "      <td>1165074.0</td>\n",
       "      <td>1875917.0</td>\n",
       "      <td>2015</td>\n",
       "      <td>02/10/2018 03:50:01 PM</td>\n",
       "      <td>41.815117</td>\n",
       "      <td>-87.670000</td>\n",
       "      <td>(41.815117282, -87.669999562)</td>\n",
       "    </tr>\n",
       "    <tr>\n",
       "      <th>1</th>\n",
       "      <td>10224739</td>\n",
       "      <td>HY411615</td>\n",
       "      <td>09/04/2015 11:30:00 AM</td>\n",
       "      <td>008XX N CENTRAL AVE</td>\n",
       "      <td>0870</td>\n",
       "      <td>THEFT</td>\n",
       "      <td>POCKET-PICKING</td>\n",
       "      <td>CTA BUS</td>\n",
       "      <td>False</td>\n",
       "      <td>False</td>\n",
       "      <td>...</td>\n",
       "      <td>29.0</td>\n",
       "      <td>25.0</td>\n",
       "      <td>06</td>\n",
       "      <td>1138875.0</td>\n",
       "      <td>1904869.0</td>\n",
       "      <td>2015</td>\n",
       "      <td>02/10/2018 03:50:01 PM</td>\n",
       "      <td>41.895080</td>\n",
       "      <td>-87.765400</td>\n",
       "      <td>(41.895080471, -87.765400451)</td>\n",
       "    </tr>\n",
       "    <tr>\n",
       "      <th>2</th>\n",
       "      <td>11646166</td>\n",
       "      <td>JC213529</td>\n",
       "      <td>09/01/2018 12:01:00 AM</td>\n",
       "      <td>082XX S INGLESIDE AVE</td>\n",
       "      <td>0810</td>\n",
       "      <td>THEFT</td>\n",
       "      <td>OVER $500</td>\n",
       "      <td>RESIDENCE</td>\n",
       "      <td>False</td>\n",
       "      <td>True</td>\n",
       "      <td>...</td>\n",
       "      <td>8.0</td>\n",
       "      <td>44.0</td>\n",
       "      <td>06</td>\n",
       "      <td>NaN</td>\n",
       "      <td>NaN</td>\n",
       "      <td>2018</td>\n",
       "      <td>04/06/2019 04:04:43 PM</td>\n",
       "      <td>NaN</td>\n",
       "      <td>NaN</td>\n",
       "      <td>NaN</td>\n",
       "    </tr>\n",
       "    <tr>\n",
       "      <th>3</th>\n",
       "      <td>10224740</td>\n",
       "      <td>HY411595</td>\n",
       "      <td>09/05/2015 12:45:00 PM</td>\n",
       "      <td>035XX W BARRY AVE</td>\n",
       "      <td>2023</td>\n",
       "      <td>NARCOTICS</td>\n",
       "      <td>POSS: HEROIN(BRN/TAN)</td>\n",
       "      <td>SIDEWALK</td>\n",
       "      <td>True</td>\n",
       "      <td>False</td>\n",
       "      <td>...</td>\n",
       "      <td>35.0</td>\n",
       "      <td>21.0</td>\n",
       "      <td>18</td>\n",
       "      <td>1152037.0</td>\n",
       "      <td>1920384.0</td>\n",
       "      <td>2015</td>\n",
       "      <td>02/10/2018 03:50:01 PM</td>\n",
       "      <td>41.937406</td>\n",
       "      <td>-87.716650</td>\n",
       "      <td>(41.937405765, -87.716649687)</td>\n",
       "    </tr>\n",
       "    <tr>\n",
       "      <th>4</th>\n",
       "      <td>10224741</td>\n",
       "      <td>HY411610</td>\n",
       "      <td>09/05/2015 01:00:00 PM</td>\n",
       "      <td>0000X N LARAMIE AVE</td>\n",
       "      <td>0560</td>\n",
       "      <td>ASSAULT</td>\n",
       "      <td>SIMPLE</td>\n",
       "      <td>APARTMENT</td>\n",
       "      <td>False</td>\n",
       "      <td>True</td>\n",
       "      <td>...</td>\n",
       "      <td>28.0</td>\n",
       "      <td>25.0</td>\n",
       "      <td>08A</td>\n",
       "      <td>1141706.0</td>\n",
       "      <td>1900086.0</td>\n",
       "      <td>2015</td>\n",
       "      <td>02/10/2018 03:50:01 PM</td>\n",
       "      <td>41.881903</td>\n",
       "      <td>-87.755121</td>\n",
       "      <td>(41.881903443, -87.755121152)</td>\n",
       "    </tr>\n",
       "  </tbody>\n",
       "</table>\n",
       "<p>5 rows × 22 columns</p>\n",
       "</div>"
      ],
      "text/plain": [
       "         ID Case Number                    Date                  Block  IUCR  \\\n",
       "0  10224738    HY411648  09/05/2015 01:30:00 PM        043XX S WOOD ST  0486   \n",
       "1  10224739    HY411615  09/04/2015 11:30:00 AM    008XX N CENTRAL AVE  0870   \n",
       "2  11646166    JC213529  09/01/2018 12:01:00 AM  082XX S INGLESIDE AVE  0810   \n",
       "3  10224740    HY411595  09/05/2015 12:45:00 PM      035XX W BARRY AVE  2023   \n",
       "4  10224741    HY411610  09/05/2015 01:00:00 PM    0000X N LARAMIE AVE  0560   \n",
       "\n",
       "  Primary Type              Description Location Description  Arrest  \\\n",
       "0      BATTERY  DOMESTIC BATTERY SIMPLE            RESIDENCE   False   \n",
       "1        THEFT           POCKET-PICKING              CTA BUS   False   \n",
       "2        THEFT                OVER $500            RESIDENCE   False   \n",
       "3    NARCOTICS    POSS: HEROIN(BRN/TAN)             SIDEWALK    True   \n",
       "4      ASSAULT                   SIMPLE            APARTMENT   False   \n",
       "\n",
       "   Domestic  ...  Ward  Community Area  FBI Code  X Coordinate Y Coordinate  \\\n",
       "0      True  ...  12.0            61.0       08B     1165074.0    1875917.0   \n",
       "1     False  ...  29.0            25.0        06     1138875.0    1904869.0   \n",
       "2      True  ...   8.0            44.0        06           NaN          NaN   \n",
       "3     False  ...  35.0            21.0        18     1152037.0    1920384.0   \n",
       "4      True  ...  28.0            25.0       08A     1141706.0    1900086.0   \n",
       "\n",
       "   Year              Updated On   Latitude  Longitude  \\\n",
       "0  2015  02/10/2018 03:50:01 PM  41.815117 -87.670000   \n",
       "1  2015  02/10/2018 03:50:01 PM  41.895080 -87.765400   \n",
       "2  2018  04/06/2019 04:04:43 PM        NaN        NaN   \n",
       "3  2015  02/10/2018 03:50:01 PM  41.937406 -87.716650   \n",
       "4  2015  02/10/2018 03:50:01 PM  41.881903 -87.755121   \n",
       "\n",
       "                        Location  \n",
       "0  (41.815117282, -87.669999562)  \n",
       "1  (41.895080471, -87.765400451)  \n",
       "2                            NaN  \n",
       "3  (41.937405765, -87.716649687)  \n",
       "4  (41.881903443, -87.755121152)  \n",
       "\n",
       "[5 rows x 22 columns]"
      ]
     },
     "execution_count": 4,
     "metadata": {},
     "output_type": "execute_result"
    }
   ],
   "source": [
    "Crimes_Data.head()"
   ]
  },
  {
   "cell_type": "markdown",
   "metadata": {},
   "source": [
    "### Information about the dataframe"
   ]
  },
  {
   "cell_type": "code",
   "execution_count": 5,
   "metadata": {
    "colab": {
     "base_uri": "https://localhost:8080/"
    },
    "id": "gSsFbjFZmZVw",
    "outputId": "5d0685dc-9790-4bc9-df36-6784cf4404eb",
    "scrolled": true
   },
   "outputs": [
    {
     "name": "stdout",
     "output_type": "stream",
     "text": [
      "<class 'pandas.core.frame.DataFrame'>\n",
      "RangeIndex: 100000 entries, 0 to 99999\n",
      "Data columns (total 22 columns):\n",
      " #   Column                Non-Null Count   Dtype  \n",
      "---  ------                --------------   -----  \n",
      " 0   ID                    100000 non-null  int64  \n",
      " 1   Case Number           100000 non-null  object \n",
      " 2   Date                  100000 non-null  object \n",
      " 3   Block                 100000 non-null  object \n",
      " 4   IUCR                  100000 non-null  object \n",
      " 5   Primary Type          100000 non-null  object \n",
      " 6   Description           100000 non-null  object \n",
      " 7   Location Description  99729 non-null   object \n",
      " 8   Arrest                100000 non-null  bool   \n",
      " 9   Domestic              100000 non-null  bool   \n",
      " 10  Beat                  100000 non-null  int64  \n",
      " 11  District              100000 non-null  int64  \n",
      " 12  Ward                  99996 non-null   float64\n",
      " 13  Community Area        99996 non-null   float64\n",
      " 14  FBI Code              100000 non-null  object \n",
      " 15  X Coordinate          97771 non-null   float64\n",
      " 16  Y Coordinate          97771 non-null   float64\n",
      " 17  Year                  100000 non-null  int64  \n",
      " 18  Updated On            100000 non-null  object \n",
      " 19  Latitude              97771 non-null   float64\n",
      " 20  Longitude             97771 non-null   float64\n",
      " 21  Location              97771 non-null   object \n",
      "dtypes: bool(2), float64(6), int64(4), object(10)\n",
      "memory usage: 15.4+ MB\n"
     ]
    }
   ],
   "source": [
    "Crimes_Data.info()"
   ]
  },
  {
   "cell_type": "markdown",
   "metadata": {},
   "source": [
    "### Dimensionalities of the dataframe"
   ]
  },
  {
   "cell_type": "code",
   "execution_count": 6,
   "metadata": {},
   "outputs": [
    {
     "name": "stdout",
     "output_type": "stream",
     "text": [
      "Number of rows  100000\n",
      "Number of Columns  22\n"
     ]
    }
   ],
   "source": [
    "print(\"Number of rows \",Crimes_Data.shape[0])\n",
    "print(\"Number of Columns \",Crimes_Data.shape[1])"
   ]
  },
  {
   "cell_type": "markdown",
   "metadata": {},
   "source": [
    "### Histogram of the dataframe"
   ]
  },
  {
   "cell_type": "code",
   "execution_count": 7,
   "metadata": {
    "colab": {
     "base_uri": "https://localhost:8080/",
     "height": 892
    },
    "id": "ac_0oNw467vW",
    "outputId": "5bb259dd-82a9-4633-adcf-7ea494dad095",
    "scrolled": false
   },
   "outputs": [
    {
     "data": {
      "text/plain": [
       "array([[<AxesSubplot:title={'center':'ID'}>,\n",
       "        <AxesSubplot:title={'center':'Beat'}>,\n",
       "        <AxesSubplot:title={'center':'District'}>],\n",
       "       [<AxesSubplot:title={'center':'Ward'}>,\n",
       "        <AxesSubplot:title={'center':'Community Area'}>,\n",
       "        <AxesSubplot:title={'center':'X Coordinate'}>],\n",
       "       [<AxesSubplot:title={'center':'Y Coordinate'}>,\n",
       "        <AxesSubplot:title={'center':'Year'}>,\n",
       "        <AxesSubplot:title={'center':'Latitude'}>],\n",
       "       [<AxesSubplot:title={'center':'Longitude'}>, <AxesSubplot:>,\n",
       "        <AxesSubplot:>]], dtype=object)"
      ]
     },
     "execution_count": 7,
     "metadata": {},
     "output_type": "execute_result"
    },
    {
     "data": {
      "image/png": "[encoded data removed]",
      "text/plain": [
       "<Figure size 1440x720 with 12 Axes>"
      ]
     },
     "metadata": {
      "needs_background": "light"
     },
     "output_type": "display_data"
    }
   ],
   "source": [
    "Crimes_Data.hist(color='teal',figsize=(20,10))"
   ]
  },
  {
   "cell_type": "markdown",
   "metadata": {},
   "source": [
    "1. There don't appear to be any obvious data quality issues.\n",
    "2. We'll need to standardize the features because we'll have more numerical, but on different scales."
   ]
  },
  {
   "cell_type": "markdown",
   "metadata": {},
   "source": [
    "### Descriptive statistics of a Dataframe\n"
   ]
  },
  {
   "cell_type": "code",
   "execution_count": 8,
   "metadata": {
    "scrolled": true
   },
   "outputs": [
    {
     "data": {
      "text/html": [
       "<div>\n",
       "<style scoped>\n",
       "    .dataframe tbody tr th:only-of-type {\n",
       "        vertical-align: middle;\n",
       "    }\n",
       "\n",
       "    .dataframe tbody tr th {\n",
       "        vertical-align: top;\n",
       "    }\n",
       "\n",
       "    .dataframe thead th {\n",
       "        text-align: right;\n",
       "    }\n",
       "</style>\n",
       "<table border=\"1\" class=\"dataframe\">\n",
       "  <thead>\n",
       "    <tr style=\"text-align: right;\">\n",
       "      <th></th>\n",
       "      <th>ID</th>\n",
       "      <th>Beat</th>\n",
       "      <th>District</th>\n",
       "      <th>Ward</th>\n",
       "      <th>Community Area</th>\n",
       "      <th>X Coordinate</th>\n",
       "      <th>Y Coordinate</th>\n",
       "      <th>Year</th>\n",
       "      <th>Latitude</th>\n",
       "      <th>Longitude</th>\n",
       "    </tr>\n",
       "  </thead>\n",
       "  <tbody>\n",
       "    <tr>\n",
       "      <th>count</th>\n",
       "      <td>1.000000e+05</td>\n",
       "      <td>100000.000000</td>\n",
       "      <td>100000.000000</td>\n",
       "      <td>99996.000000</td>\n",
       "      <td>99996.000000</td>\n",
       "      <td>9.777100e+04</td>\n",
       "      <td>9.777100e+04</td>\n",
       "      <td>100000.000000</td>\n",
       "      <td>97771.000000</td>\n",
       "      <td>97771.000000</td>\n",
       "    </tr>\n",
       "    <tr>\n",
       "      <th>mean</th>\n",
       "      <td>1.028165e+07</td>\n",
       "      <td>1142.514720</td>\n",
       "      <td>11.196360</td>\n",
       "      <td>22.884495</td>\n",
       "      <td>37.360764</td>\n",
       "      <td>1.164596e+06</td>\n",
       "      <td>1.885791e+06</td>\n",
       "      <td>2015.056140</td>\n",
       "      <td>41.842206</td>\n",
       "      <td>-87.671518</td>\n",
       "    </tr>\n",
       "    <tr>\n",
       "      <th>std</th>\n",
       "      <td>2.585071e+05</td>\n",
       "      <td>693.497984</td>\n",
       "      <td>6.928772</td>\n",
       "      <td>13.906412</td>\n",
       "      <td>21.423351</td>\n",
       "      <td>1.635850e+04</td>\n",
       "      <td>3.112363e+04</td>\n",
       "      <td>0.661735</td>\n",
       "      <td>0.085599</td>\n",
       "      <td>0.059546</td>\n",
       "    </tr>\n",
       "    <tr>\n",
       "      <th>min</th>\n",
       "      <td>1.744168e+06</td>\n",
       "      <td>111.000000</td>\n",
       "      <td>1.000000</td>\n",
       "      <td>1.000000</td>\n",
       "      <td>1.000000</td>\n",
       "      <td>1.094231e+06</td>\n",
       "      <td>1.813910e+06</td>\n",
       "      <td>2001.000000</td>\n",
       "      <td>41.644604</td>\n",
       "      <td>-87.928909</td>\n",
       "    </tr>\n",
       "    <tr>\n",
       "      <th>25%</th>\n",
       "      <td>1.019593e+07</td>\n",
       "      <td>612.000000</td>\n",
       "      <td>6.000000</td>\n",
       "      <td>10.000000</td>\n",
       "      <td>23.000000</td>\n",
       "      <td>1.152702e+06</td>\n",
       "      <td>1.858866e+06</td>\n",
       "      <td>2015.000000</td>\n",
       "      <td>41.768112</td>\n",
       "      <td>-87.714685</td>\n",
       "    </tr>\n",
       "    <tr>\n",
       "      <th>50%</th>\n",
       "      <td>1.024927e+07</td>\n",
       "      <td>1023.000000</td>\n",
       "      <td>10.000000</td>\n",
       "      <td>23.000000</td>\n",
       "      <td>32.000000</td>\n",
       "      <td>1.166247e+06</td>\n",
       "      <td>1.891639e+06</td>\n",
       "      <td>2015.000000</td>\n",
       "      <td>41.858450</td>\n",
       "      <td>-87.665423</td>\n",
       "    </tr>\n",
       "    <tr>\n",
       "      <th>75%</th>\n",
       "      <td>1.029269e+07</td>\n",
       "      <td>1711.000000</td>\n",
       "      <td>17.000000</td>\n",
       "      <td>34.000000</td>\n",
       "      <td>56.000000</td>\n",
       "      <td>1.176405e+06</td>\n",
       "      <td>1.908586e+06</td>\n",
       "      <td>2015.000000</td>\n",
       "      <td>41.904903</td>\n",
       "      <td>-87.627930</td>\n",
       "    </tr>\n",
       "    <tr>\n",
       "      <th>max</th>\n",
       "      <td>1.260280e+07</td>\n",
       "      <td>2535.000000</td>\n",
       "      <td>31.000000</td>\n",
       "      <td>50.000000</td>\n",
       "      <td>77.000000</td>\n",
       "      <td>1.205111e+06</td>\n",
       "      <td>1.951507e+06</td>\n",
       "      <td>2021.000000</td>\n",
       "      <td>42.022548</td>\n",
       "      <td>-87.524615</td>\n",
       "    </tr>\n",
       "  </tbody>\n",
       "</table>\n",
       "</div>"
      ],
      "text/plain": [
       "                 ID           Beat       District          Ward  \\\n",
       "count  1.000000e+05  100000.000000  100000.000000  99996.000000   \n",
       "mean   1.028165e+07    1142.514720      11.196360     22.884495   \n",
       "std    2.585071e+05     693.497984       6.928772     13.906412   \n",
       "min    1.744168e+06     111.000000       1.000000      1.000000   \n",
       "25%    1.019593e+07     612.000000       6.000000     10.000000   \n",
       "50%    1.024927e+07    1023.000000      10.000000     23.000000   \n",
       "75%    1.029269e+07    1711.000000      17.000000     34.000000   \n",
       "max    1.260280e+07    2535.000000      31.000000     50.000000   \n",
       "\n",
       "       Community Area  X Coordinate  Y Coordinate           Year  \\\n",
       "count    99996.000000  9.777100e+04  9.777100e+04  100000.000000   \n",
       "mean        37.360764  1.164596e+06  1.885791e+06    2015.056140   \n",
       "std         21.423351  1.635850e+04  3.112363e+04       0.661735   \n",
       "min          1.000000  1.094231e+06  1.813910e+06    2001.000000   \n",
       "25%         23.000000  1.152702e+06  1.858866e+06    2015.000000   \n",
       "50%         32.000000  1.166247e+06  1.891639e+06    2015.000000   \n",
       "75%         56.000000  1.176405e+06  1.908586e+06    2015.000000   \n",
       "max         77.000000  1.205111e+06  1.951507e+06    2021.000000   \n",
       "\n",
       "           Latitude     Longitude  \n",
       "count  97771.000000  97771.000000  \n",
       "mean      41.842206    -87.671518  \n",
       "std        0.085599      0.059546  \n",
       "min       41.644604    -87.928909  \n",
       "25%       41.768112    -87.714685  \n",
       "50%       41.858450    -87.665423  \n",
       "75%       41.904903    -87.627930  \n",
       "max       42.022548    -87.524615  "
      ]
     },
     "execution_count": 8,
     "metadata": {},
     "output_type": "execute_result"
    }
   ],
   "source": [
    "Crimes_Data.describe()\n"
   ]
  },
  {
   "cell_type": "markdown",
   "metadata": {},
   "source": [
    "### Replacing Nan Values with 0 and changing the datatypes to \"Integer\""
   ]
  },
  {
   "cell_type": "code",
   "execution_count": 9,
   "metadata": {
    "colab": {
     "base_uri": "https://localhost:8080/"
    },
    "id": "7CLwQCz5mc9-",
    "outputId": "5ebc97f7-3cb3-47b3-9d63-30823c8b28ff",
    "scrolled": false
   },
   "outputs": [
    {
     "data": {
      "text/plain": [
       "array([12., 29.,  8., 35., 28., 21., 32., 25., 27., 15., 13., 45., 34.,\n",
       "        4.,  1., 10., 38.,  5.,  7.,  2., 20., 39., 24., 40.,  6., 37.,\n",
       "       16.,  3., 42., 46., 23.,  9., 19., 50., 44., 47., 11., 48., 49.,\n",
       "       26., 33., 22., 30., 18., 43., 31., 36., 17., 14., 41., nan])"
      ]
     },
     "execution_count": 9,
     "metadata": {},
     "output_type": "execute_result"
    }
   ],
   "source": [
    "Crimes_Data[\"Ward\"].unique()"
   ]
  },
  {
   "cell_type": "code",
   "execution_count": 10,
   "metadata": {
    "id": "60bBeP6QoNvx"
   },
   "outputs": [],
   "source": [
    "Crimes_Data[\"Ward\"]= Crimes_Data[\"Ward\"].replace(np.nan, 0)"
   ]
  },
  {
   "cell_type": "code",
   "execution_count": 11,
   "metadata": {
    "id": "Hre8UecBq4Mg"
   },
   "outputs": [],
   "source": [
    "Crimes_Data[\"Ward\"]= Crimes_Data[\"Ward\"].astype(int)"
   ]
  },
  {
   "cell_type": "code",
   "execution_count": 12,
   "metadata": {
    "colab": {
     "base_uri": "https://localhost:8080/"
    },
    "id": "IjJPt7OWpYVG",
    "outputId": "5ddc6a94-e0ea-4c11-e5b2-ba6e02b363ce"
   },
   "outputs": [
    {
     "data": {
      "text/plain": [
       "array([12, 29,  8, 35, 28, 21, 32, 25, 27, 15, 13, 45, 34,  4,  1, 10, 38,\n",
       "        5,  7,  2, 20, 39, 24, 40,  6, 37, 16,  3, 42, 46, 23,  9, 19, 50,\n",
       "       44, 47, 11, 48, 49, 26, 33, 22, 30, 18, 43, 31, 36, 17, 14, 41,  0])"
      ]
     },
     "execution_count": 12,
     "metadata": {},
     "output_type": "execute_result"
    }
   ],
   "source": [
    "Crimes_Data[\"Ward\"].unique()"
   ]
  },
  {
   "cell_type": "code",
   "execution_count": 13,
   "metadata": {
    "colab": {
     "base_uri": "https://localhost:8080/"
    },
    "id": "_Yv7HAg2m2GQ",
    "outputId": "1af5eb6d-c5dc-4cad-a493-903cd94ae253"
   },
   "outputs": [
    {
     "data": {
      "text/plain": [
       "array([61., 25., 44., 21., 71., 24., 31., 27., 63., 65., 11., 49., 39.,\n",
       "       51., 15., 52., 12., 43., 46., 32., 68., 14., 29.,  2., 69., 23.,\n",
       "       35.,  8.,  3.,  6., 56., 28., 53., 50., 33., 13., 74., 19., 45.,\n",
       "       72., 22., 64.,  7.,  5., 26., 66., 59., 77.,  1., 10., 67., 38.,\n",
       "       41., 60., 30., 54., 58., 48., 73., 70., 40., 34., 16., 18.,  4.,\n",
       "       17., 42., 37., 75., 62., 20., 57., 76., 47., nan,  9., 36., 55.])"
      ]
     },
     "execution_count": 13,
     "metadata": {},
     "output_type": "execute_result"
    }
   ],
   "source": [
    "Crimes_Data[\"Community Area\"].unique()"
   ]
  },
  {
   "cell_type": "code",
   "execution_count": 14,
   "metadata": {
    "id": "thQYZPVHqczq"
   },
   "outputs": [],
   "source": [
    "Crimes_Data[\"Community Area\"]= Crimes_Data[\"Community Area\"].replace(np.nan, 0)\n",
    "Crimes_Data[\"Community Area\"]= Crimes_Data[\"Community Area\"].astype(int)"
   ]
  },
  {
   "cell_type": "code",
   "execution_count": 15,
   "metadata": {
    "colab": {
     "base_uri": "https://localhost:8080/"
    },
    "id": "Yt_R2TsRnazw",
    "outputId": "cc1ac822-ed91-4d55-bc99-6827876b9217"
   },
   "outputs": [
    {
     "data": {
      "text/plain": [
       "array([61, 25, 44, 21, 71, 24, 31, 27, 63, 65, 11, 49, 39, 51, 15, 52, 12,\n",
       "       43, 46, 32, 68, 14, 29,  2, 69, 23, 35,  8,  3,  6, 56, 28, 53, 50,\n",
       "       33, 13, 74, 19, 45, 72, 22, 64,  7,  5, 26, 66, 59, 77,  1, 10, 67,\n",
       "       38, 41, 60, 30, 54, 58, 48, 73, 70, 40, 34, 16, 18,  4, 17, 42, 37,\n",
       "       75, 62, 20, 57, 76, 47,  0,  9, 36, 55])"
      ]
     },
     "execution_count": 15,
     "metadata": {},
     "output_type": "execute_result"
    }
   ],
   "source": [
    "Crimes_Data[\"Community Area\"].unique()"
   ]
  },
  {
   "cell_type": "code",
   "execution_count": 16,
   "metadata": {
    "colab": {
     "base_uri": "https://localhost:8080/"
    },
    "id": "xv4nqOhioC29",
    "outputId": "409bdd24-2132-411c-f71b-7f07707dc67f"
   },
   "outputs": [
    {
     "data": {
      "text/plain": [
       "array([1165074., 1138875.,      nan, ..., 1140804., 1129717., 1158698.])"
      ]
     },
     "execution_count": 16,
     "metadata": {},
     "output_type": "execute_result"
    }
   ],
   "source": [
    "Crimes_Data[\"X Coordinate\"].unique()"
   ]
  },
  {
   "cell_type": "markdown",
   "metadata": {},
   "source": [
    "### Missing Values"
   ]
  },
  {
   "cell_type": "code",
   "execution_count": 17,
   "metadata": {
    "colab": {
     "base_uri": "https://localhost:8080/"
    },
    "id": "Nfpc_5tOrjnz",
    "outputId": "ecb7b6ee-7b83-4952-b9a5-9e0952b34689",
    "scrolled": false
   },
   "outputs": [
    {
     "data": {
      "text/plain": [
       "ID                         0\n",
       "Case Number                0\n",
       "Date                       0\n",
       "Block                      0\n",
       "IUCR                       0\n",
       "Primary Type               0\n",
       "Description                0\n",
       "Location Description     271\n",
       "Arrest                     0\n",
       "Domestic                   0\n",
       "Beat                       0\n",
       "District                   0\n",
       "Ward                       0\n",
       "Community Area             0\n",
       "FBI Code                   0\n",
       "X Coordinate            2229\n",
       "Y Coordinate            2229\n",
       "Year                       0\n",
       "Updated On                 0\n",
       "Latitude                2229\n",
       "Longitude               2229\n",
       "Location                2229\n",
       "dtype: int64"
      ]
     },
     "execution_count": 17,
     "metadata": {},
     "output_type": "execute_result"
    }
   ],
   "source": [
    "Crimes_Data.isnull().sum()"
   ]
  },
  {
   "cell_type": "markdown",
   "metadata": {},
   "source": [
    "### Frequency of Null Values"
   ]
  },
  {
   "cell_type": "code",
   "execution_count": 18,
   "metadata": {
    "scrolled": false
   },
   "outputs": [
    {
     "data": {
      "text/plain": [
       "ID                      0.000\n",
       "Case Number             0.000\n",
       "Date                    0.000\n",
       "Block                   0.000\n",
       "IUCR                    0.000\n",
       "Primary Type            0.000\n",
       "Description             0.000\n",
       "Location Description    0.271\n",
       "Arrest                  0.000\n",
       "Domestic                0.000\n",
       "Beat                    0.000\n",
       "District                0.000\n",
       "Ward                    0.000\n",
       "Community Area          0.000\n",
       "FBI Code                0.000\n",
       "X Coordinate            2.229\n",
       "Y Coordinate            2.229\n",
       "Year                    0.000\n",
       "Updated On              0.000\n",
       "Latitude                2.229\n",
       "Longitude               2.229\n",
       "Location                2.229\n",
       "dtype: float64"
      ]
     },
     "execution_count": 18,
     "metadata": {},
     "output_type": "execute_result"
    }
   ],
   "source": [
    "Frequency=Crimes_Data.isna().sum()/(len(Crimes_Data))*100\n",
    "Frequency"
   ]
  },
  {
   "cell_type": "markdown",
   "metadata": {},
   "source": [
    "### Heat map for Null Values"
   ]
  },
  {
   "cell_type": "code",
   "execution_count": 19,
   "metadata": {
    "colab": {
     "base_uri": "https://localhost:8080/",
     "height": 596
    },
    "id": "CxEL3AcL6ra4",
    "outputId": "b4582b9a-3ccc-4043-a4d9-201044be621d",
    "scrolled": false
   },
   "outputs": [
    {
     "data": {
      "image/png": "[encoded data removed]",
      "text/plain": [
       "<Figure size 864x576 with 2 Axes>"
      ]
     },
     "metadata": {
      "needs_background": "light"
     },
     "output_type": "display_data"
    }
   ],
   "source": [
    "plt.figure(figsize=(12,8))\n",
    "sns.heatmap(Crimes_Data.isna())\n",
    "plt.show()"
   ]
  },
  {
   "cell_type": "code",
   "execution_count": 20,
   "metadata": {
    "id": "KM5qAgJPr4O_"
   },
   "outputs": [],
   "source": [
    "Crimes_Data[\"X Coordinate\"] = Crimes_Data[\"X Coordinate\"].fillna(value = 0.0)\n",
    "Crimes_Data[\"Y Coordinate\"] = Crimes_Data[\"Y Coordinate\"].fillna(value = 0.0)\n",
    "Crimes_Data[\"Latitude\"] = Crimes_Data[\"Latitude\"].fillna(value = 0.0)\n",
    "Crimes_Data[\"Longitude\"] = Crimes_Data[\"Longitude\"].fillna(value = 0.0)\n",
    "Crimes_Data[\"Location\"] = Crimes_Data[\"Location\"].fillna(value = 0.0)"
   ]
  },
  {
   "cell_type": "code",
   "execution_count": 21,
   "metadata": {
    "colab": {
     "base_uri": "https://localhost:8080/"
    },
    "id": "JmaCRFXAsozQ",
    "outputId": "495a3238-c93d-4686-9814-fc0c983f8bef"
   },
   "outputs": [
    {
     "data": {
      "text/plain": [
       "ID                        0\n",
       "Case Number               0\n",
       "Date                      0\n",
       "Block                     0\n",
       "IUCR                      0\n",
       "Primary Type              0\n",
       "Description               0\n",
       "Location Description    271\n",
       "Arrest                    0\n",
       "Domestic                  0\n",
       "Beat                      0\n",
       "District                  0\n",
       "Ward                      0\n",
       "Community Area            0\n",
       "FBI Code                  0\n",
       "X Coordinate              0\n",
       "Y Coordinate              0\n",
       "Year                      0\n",
       "Updated On                0\n",
       "Latitude                  0\n",
       "Longitude                 0\n",
       "Location                  0\n",
       "dtype: int64"
      ]
     },
     "execution_count": 21,
     "metadata": {},
     "output_type": "execute_result"
    }
   ],
   "source": [
    "Crimes_Data.isnull().sum()"
   ]
  },
  {
   "cell_type": "code",
   "execution_count": 22,
   "metadata": {
    "colab": {
     "base_uri": "https://localhost:8080/"
    },
    "id": "TADJ7euPtzL3",
    "outputId": "905896fe-6088-43aa-b4da-1117b10574ae"
   },
   "outputs": [
    {
     "data": {
      "text/plain": [
       "Index(['ID', 'Case Number', 'Date', 'Block', 'IUCR', 'Primary Type',\n",
       "       'Description', 'Location Description', 'Arrest', 'Domestic', 'Beat',\n",
       "       'District', 'Ward', 'Community Area', 'FBI Code', 'X Coordinate',\n",
       "       'Y Coordinate', 'Year', 'Updated On', 'Latitude', 'Longitude',\n",
       "       'Location'],\n",
       "      dtype='object')"
      ]
     },
     "execution_count": 22,
     "metadata": {},
     "output_type": "execute_result"
    }
   ],
   "source": [
    "Crimes_Data.columns"
   ]
  },
  {
   "cell_type": "code",
   "execution_count": 23,
   "metadata": {
    "colab": {
     "base_uri": "https://localhost:8080/"
    },
    "id": "3TV56QiQt2gp",
    "outputId": "30b551ab-9492-4181-b2ee-cc7f94e22d3a",
    "scrolled": true
   },
   "outputs": [
    {
     "data": {
      "text/plain": [
       "ID                        0\n",
       "Case Number               0\n",
       "Date                      0\n",
       "Block                     0\n",
       "IUCR                      0\n",
       "Primary Type              0\n",
       "Description               0\n",
       "Location Description    271\n",
       "Arrest                    0\n",
       "Domestic                  0\n",
       "Beat                      0\n",
       "District                  0\n",
       "Ward                      0\n",
       "Community Area            0\n",
       "FBI Code                  0\n",
       "X Coordinate              0\n",
       "Y Coordinate              0\n",
       "Year                      0\n",
       "Updated On                0\n",
       "Latitude                  0\n",
       "Longitude                 0\n",
       "Location                  0\n",
       "dtype: int64"
      ]
     },
     "execution_count": 23,
     "metadata": {},
     "output_type": "execute_result"
    }
   ],
   "source": [
    "Crimes_Data.isnull().sum()"
   ]
  },
  {
   "cell_type": "markdown",
   "metadata": {},
   "source": [
    "### Changing data types\n"
   ]
  },
  {
   "cell_type": "code",
   "execution_count": 24,
   "metadata": {
    "colab": {
     "base_uri": "https://localhost:8080/"
    },
    "id": "hJ5NFpg5t7sz",
    "outputId": "f18d253a-d0e0-47cd-dc82-e4742374e42f",
    "scrolled": true
   },
   "outputs": [
    {
     "data": {
      "text/plain": [
       "ID                        int64\n",
       "Case Number              object\n",
       "Date                     object\n",
       "Block                    object\n",
       "IUCR                     object\n",
       "Primary Type             object\n",
       "Description              object\n",
       "Location Description     object\n",
       "Arrest                     bool\n",
       "Domestic                   bool\n",
       "Beat                      int64\n",
       "District                  int64\n",
       "Ward                      int32\n",
       "Community Area            int32\n",
       "FBI Code                 object\n",
       "X Coordinate            float64\n",
       "Y Coordinate            float64\n",
       "Year                      int64\n",
       "Updated On               object\n",
       "Latitude                float64\n",
       "Longitude               float64\n",
       "Location                 object\n",
       "dtype: object"
      ]
     },
     "execution_count": 24,
     "metadata": {},
     "output_type": "execute_result"
    }
   ],
   "source": [
    "Crimes_Data.dtypes"
   ]
  },
  {
   "cell_type": "code",
   "execution_count": 25,
   "metadata": {
    "colab": {
     "base_uri": "https://localhost:8080/"
    },
    "id": "o3WlxwS2vlEy",
    "outputId": "34bb99e8-00d4-41f1-f4e2-5ee31a34fb73"
   },
   "outputs": [
    {
     "data": {
      "text/plain": [
       "array([1165074., 1138875.,       0., ..., 1140804., 1129717., 1158698.])"
      ]
     },
     "execution_count": 25,
     "metadata": {},
     "output_type": "execute_result"
    }
   ],
   "source": [
    "Crimes_Data[\"X Coordinate\"].unique()"
   ]
  },
  {
   "cell_type": "code",
   "execution_count": 26,
   "metadata": {
    "id": "Be4DhH46vwgh"
   },
   "outputs": [],
   "source": [
    "Crimes_Data[\"X Coordinate\"]= Crimes_Data[\"X Coordinate\"].astype(int)"
   ]
  },
  {
   "cell_type": "code",
   "execution_count": 27,
   "metadata": {
    "colab": {
     "base_uri": "https://localhost:8080/"
    },
    "id": "0IDvHC3ev1e3",
    "outputId": "186feb94-c797-4f5e-ee20-2e8d903331c2"
   },
   "outputs": [
    {
     "data": {
      "text/plain": [
       "array([1165074, 1138875,       0, ..., 1140804, 1129717, 1158698])"
      ]
     },
     "execution_count": 27,
     "metadata": {},
     "output_type": "execute_result"
    }
   ],
   "source": [
    "Crimes_Data[\"X Coordinate\"].unique()"
   ]
  },
  {
   "cell_type": "code",
   "execution_count": 28,
   "metadata": {},
   "outputs": [
    {
     "data": {
      "text/plain": [
       "array([1875917., 1904869.,       0., ..., 1944717., 1927321., 1898481.])"
      ]
     },
     "execution_count": 28,
     "metadata": {},
     "output_type": "execute_result"
    }
   ],
   "source": [
    "Crimes_Data[\"Y Coordinate\"].unique()\n"
   ]
  },
  {
   "cell_type": "code",
   "execution_count": 29,
   "metadata": {},
   "outputs": [],
   "source": [
    "Crimes_Data[\"Y Coordinate\"]= Crimes_Data[\"Y Coordinate\"].astype(int)"
   ]
  },
  {
   "cell_type": "code",
   "execution_count": 30,
   "metadata": {},
   "outputs": [
    {
     "data": {
      "text/plain": [
       "array([1165074, 1138875,       0, ..., 1140804, 1129717, 1158698])"
      ]
     },
     "execution_count": 30,
     "metadata": {},
     "output_type": "execute_result"
    }
   ],
   "source": [
    "Crimes_Data[\"X Coordinate\"].unique()"
   ]
  },
  {
   "cell_type": "code",
   "execution_count": 31,
   "metadata": {},
   "outputs": [
    {
     "data": {
      "text/plain": [
       "ID                        int64\n",
       "Case Number              object\n",
       "Date                     object\n",
       "Block                    object\n",
       "IUCR                     object\n",
       "Primary Type             object\n",
       "Description              object\n",
       "Location Description     object\n",
       "Arrest                     bool\n",
       "Domestic                   bool\n",
       "Beat                      int64\n",
       "District                  int64\n",
       "Ward                      int32\n",
       "Community Area            int32\n",
       "FBI Code                 object\n",
       "X Coordinate              int32\n",
       "Y Coordinate              int32\n",
       "Year                      int64\n",
       "Updated On               object\n",
       "Latitude                float64\n",
       "Longitude               float64\n",
       "Location                 object\n",
       "dtype: object"
      ]
     },
     "execution_count": 31,
     "metadata": {},
     "output_type": "execute_result"
    }
   ],
   "source": [
    "Crimes_Data.dtypes"
   ]
  },
  {
   "cell_type": "markdown",
   "metadata": {},
   "source": [
    "### Split timestamps into usable components\n"
   ]
  },
  {
   "cell_type": "code",
   "execution_count": 32,
   "metadata": {},
   "outputs": [],
   "source": [
    "Crimes_Data.Date=pd.to_datetime(Crimes_Data.Date,format='%m/%d/%Y %I:%M:%S %p')\n",
    "Crimes_Data.index=pd.DatetimeIndex(Crimes_Data.Date)"
   ]
  },
  {
   "cell_type": "code",
   "execution_count": 33,
   "metadata": {
    "id": "FzHlL9-e1H-W"
   },
   "outputs": [],
   "source": [
    "Crimes_Data['Day'] = pd.DatetimeIndex(Crimes_Data['Date']).day\n",
    "Crimes_Data['Month'] = pd.DatetimeIndex(Crimes_Data['Date']).month\n",
    "Crimes_Data['Time'] = pd.to_datetime(Crimes_Data['Date']).dt.time"
   ]
  },
  {
   "cell_type": "code",
   "execution_count": 34,
   "metadata": {
    "colab": {
     "base_uri": "https://localhost:8080/"
    },
    "id": "IFu79ors1zgA",
    "outputId": "606f02f2-6d99-4401-b84a-f67a665eb71d",
    "scrolled": false
   },
   "outputs": [
    {
     "data": {
      "text/plain": [
       "Index(['ID', 'Case Number', 'Date', 'Block', 'IUCR', 'Primary Type',\n",
       "       'Description', 'Location Description', 'Arrest', 'Domestic', 'Beat',\n",
       "       'District', 'Ward', 'Community Area', 'FBI Code', 'X Coordinate',\n",
       "       'Y Coordinate', 'Year', 'Updated On', 'Latitude', 'Longitude',\n",
       "       'Location', 'Day', 'Month', 'Time'],\n",
       "      dtype='object')"
      ]
     },
     "execution_count": 34,
     "metadata": {},
     "output_type": "execute_result"
    }
   ],
   "source": [
    "Crimes_Data.columns"
   ]
  },
  {
   "cell_type": "code",
   "execution_count": 35,
   "metadata": {},
   "outputs": [
    {
     "data": {
      "text/plain": [
       "ID                               int64\n",
       "Case Number                     object\n",
       "Date                    datetime64[ns]\n",
       "Block                           object\n",
       "IUCR                            object\n",
       "Primary Type                    object\n",
       "Description                     object\n",
       "Location Description            object\n",
       "Arrest                            bool\n",
       "Domestic                          bool\n",
       "Beat                             int64\n",
       "District                         int64\n",
       "Ward                             int32\n",
       "Community Area                   int32\n",
       "FBI Code                        object\n",
       "X Coordinate                     int32\n",
       "Y Coordinate                     int32\n",
       "Year                             int64\n",
       "Updated On                      object\n",
       "Latitude                       float64\n",
       "Longitude                      float64\n",
       "Location                        object\n",
       "Day                              int64\n",
       "Month                            int64\n",
       "Time                            object\n",
       "dtype: object"
      ]
     },
     "execution_count": 35,
     "metadata": {},
     "output_type": "execute_result"
    }
   ],
   "source": [
    "Crimes_Data.dtypes"
   ]
  },
  {
   "cell_type": "code",
   "execution_count": 36,
   "metadata": {},
   "outputs": [
    {
     "data": {
      "text/html": [
       "<div>\n",
       "<style scoped>\n",
       "    .dataframe tbody tr th:only-of-type {\n",
       "        vertical-align: middle;\n",
       "    }\n",
       "\n",
       "    .dataframe tbody tr th {\n",
       "        vertical-align: top;\n",
       "    }\n",
       "\n",
       "    .dataframe thead th {\n",
       "        text-align: right;\n",
       "    }\n",
       "</style>\n",
       "<table border=\"1\" class=\"dataframe\">\n",
       "  <thead>\n",
       "    <tr style=\"text-align: right;\">\n",
       "      <th></th>\n",
       "      <th>ID</th>\n",
       "      <th>Case Number</th>\n",
       "      <th>Date</th>\n",
       "      <th>Block</th>\n",
       "      <th>IUCR</th>\n",
       "      <th>Primary Type</th>\n",
       "      <th>Description</th>\n",
       "      <th>Location Description</th>\n",
       "      <th>Arrest</th>\n",
       "      <th>Domestic</th>\n",
       "      <th>...</th>\n",
       "      <th>X Coordinate</th>\n",
       "      <th>Y Coordinate</th>\n",
       "      <th>Year</th>\n",
       "      <th>Updated On</th>\n",
       "      <th>Latitude</th>\n",
       "      <th>Longitude</th>\n",
       "      <th>Location</th>\n",
       "      <th>Day</th>\n",
       "      <th>Month</th>\n",
       "      <th>Time</th>\n",
       "    </tr>\n",
       "    <tr>\n",
       "      <th>Date</th>\n",
       "      <th></th>\n",
       "      <th></th>\n",
       "      <th></th>\n",
       "      <th></th>\n",
       "      <th></th>\n",
       "      <th></th>\n",
       "      <th></th>\n",
       "      <th></th>\n",
       "      <th></th>\n",
       "      <th></th>\n",
       "      <th></th>\n",
       "      <th></th>\n",
       "      <th></th>\n",
       "      <th></th>\n",
       "      <th></th>\n",
       "      <th></th>\n",
       "      <th></th>\n",
       "      <th></th>\n",
       "      <th></th>\n",
       "      <th></th>\n",
       "      <th></th>\n",
       "    </tr>\n",
       "  </thead>\n",
       "  <tbody>\n",
       "    <tr>\n",
       "      <th>2015-09-05 13:30:00</th>\n",
       "      <td>10224738</td>\n",
       "      <td>HY411648</td>\n",
       "      <td>2015-09-05 13:30:00</td>\n",
       "      <td>043XX S WOOD ST</td>\n",
       "      <td>0486</td>\n",
       "      <td>BATTERY</td>\n",
       "      <td>DOMESTIC BATTERY SIMPLE</td>\n",
       "      <td>RESIDENCE</td>\n",
       "      <td>False</td>\n",
       "      <td>True</td>\n",
       "      <td>...</td>\n",
       "      <td>1165074</td>\n",
       "      <td>1875917</td>\n",
       "      <td>2015</td>\n",
       "      <td>02/10/2018 03:50:01 PM</td>\n",
       "      <td>41.815117</td>\n",
       "      <td>-87.670000</td>\n",
       "      <td>(41.815117282, -87.669999562)</td>\n",
       "      <td>5</td>\n",
       "      <td>9</td>\n",
       "      <td>13:30:00</td>\n",
       "    </tr>\n",
       "    <tr>\n",
       "      <th>2015-09-04 11:30:00</th>\n",
       "      <td>10224739</td>\n",
       "      <td>HY411615</td>\n",
       "      <td>2015-09-04 11:30:00</td>\n",
       "      <td>008XX N CENTRAL AVE</td>\n",
       "      <td>0870</td>\n",
       "      <td>THEFT</td>\n",
       "      <td>POCKET-PICKING</td>\n",
       "      <td>CTA BUS</td>\n",
       "      <td>False</td>\n",
       "      <td>False</td>\n",
       "      <td>...</td>\n",
       "      <td>1138875</td>\n",
       "      <td>1904869</td>\n",
       "      <td>2015</td>\n",
       "      <td>02/10/2018 03:50:01 PM</td>\n",
       "      <td>41.895080</td>\n",
       "      <td>-87.765400</td>\n",
       "      <td>(41.895080471, -87.765400451)</td>\n",
       "      <td>4</td>\n",
       "      <td>9</td>\n",
       "      <td>11:30:00</td>\n",
       "    </tr>\n",
       "    <tr>\n",
       "      <th>2018-09-01 00:01:00</th>\n",
       "      <td>11646166</td>\n",
       "      <td>JC213529</td>\n",
       "      <td>2018-09-01 00:01:00</td>\n",
       "      <td>082XX S INGLESIDE AVE</td>\n",
       "      <td>0810</td>\n",
       "      <td>THEFT</td>\n",
       "      <td>OVER $500</td>\n",
       "      <td>RESIDENCE</td>\n",
       "      <td>False</td>\n",
       "      <td>True</td>\n",
       "      <td>...</td>\n",
       "      <td>0</td>\n",
       "      <td>0</td>\n",
       "      <td>2018</td>\n",
       "      <td>04/06/2019 04:04:43 PM</td>\n",
       "      <td>0.000000</td>\n",
       "      <td>0.000000</td>\n",
       "      <td>0.0</td>\n",
       "      <td>1</td>\n",
       "      <td>9</td>\n",
       "      <td>00:01:00</td>\n",
       "    </tr>\n",
       "    <tr>\n",
       "      <th>2015-09-05 12:45:00</th>\n",
       "      <td>10224740</td>\n",
       "      <td>HY411595</td>\n",
       "      <td>2015-09-05 12:45:00</td>\n",
       "      <td>035XX W BARRY AVE</td>\n",
       "      <td>2023</td>\n",
       "      <td>NARCOTICS</td>\n",
       "      <td>POSS: HEROIN(BRN/TAN)</td>\n",
       "      <td>SIDEWALK</td>\n",
       "      <td>True</td>\n",
       "      <td>False</td>\n",
       "      <td>...</td>\n",
       "      <td>1152037</td>\n",
       "      <td>1920384</td>\n",
       "      <td>2015</td>\n",
       "      <td>02/10/2018 03:50:01 PM</td>\n",
       "      <td>41.937406</td>\n",
       "      <td>-87.716650</td>\n",
       "      <td>(41.937405765, -87.716649687)</td>\n",
       "      <td>5</td>\n",
       "      <td>9</td>\n",
       "      <td>12:45:00</td>\n",
       "    </tr>\n",
       "    <tr>\n",
       "      <th>2015-09-05 13:00:00</th>\n",
       "      <td>10224741</td>\n",
       "      <td>HY411610</td>\n",
       "      <td>2015-09-05 13:00:00</td>\n",
       "      <td>0000X N LARAMIE AVE</td>\n",
       "      <td>0560</td>\n",
       "      <td>ASSAULT</td>\n",
       "      <td>SIMPLE</td>\n",
       "      <td>APARTMENT</td>\n",
       "      <td>False</td>\n",
       "      <td>True</td>\n",
       "      <td>...</td>\n",
       "      <td>1141706</td>\n",
       "      <td>1900086</td>\n",
       "      <td>2015</td>\n",
       "      <td>02/10/2018 03:50:01 PM</td>\n",
       "      <td>41.881903</td>\n",
       "      <td>-87.755121</td>\n",
       "      <td>(41.881903443, -87.755121152)</td>\n",
       "      <td>5</td>\n",
       "      <td>9</td>\n",
       "      <td>13:00:00</td>\n",
       "    </tr>\n",
       "  </tbody>\n",
       "</table>\n",
       "<p>5 rows × 25 columns</p>\n",
       "</div>"
      ],
      "text/plain": [
       "                           ID Case Number                Date  \\\n",
       "Date                                                            \n",
       "2015-09-05 13:30:00  10224738    HY411648 2015-09-05 13:30:00   \n",
       "2015-09-04 11:30:00  10224739    HY411615 2015-09-04 11:30:00   \n",
       "2018-09-01 00:01:00  11646166    JC213529 2018-09-01 00:01:00   \n",
       "2015-09-05 12:45:00  10224740    HY411595 2015-09-05 12:45:00   \n",
       "2015-09-05 13:00:00  10224741    HY411610 2015-09-05 13:00:00   \n",
       "\n",
       "                                     Block  IUCR Primary Type  \\\n",
       "Date                                                            \n",
       "2015-09-05 13:30:00        043XX S WOOD ST  0486      BATTERY   \n",
       "2015-09-04 11:30:00    008XX N CENTRAL AVE  0870        THEFT   \n",
       "2018-09-01 00:01:00  082XX S INGLESIDE AVE  0810        THEFT   \n",
       "2015-09-05 12:45:00      035XX W BARRY AVE  2023    NARCOTICS   \n",
       "2015-09-05 13:00:00    0000X N LARAMIE AVE  0560      ASSAULT   \n",
       "\n",
       "                                 Description Location Description  Arrest  \\\n",
       "Date                                                                        \n",
       "2015-09-05 13:30:00  DOMESTIC BATTERY SIMPLE            RESIDENCE   False   \n",
       "2015-09-04 11:30:00           POCKET-PICKING              CTA BUS   False   \n",
       "2018-09-01 00:01:00                OVER $500            RESIDENCE   False   \n",
       "2015-09-05 12:45:00    POSS: HEROIN(BRN/TAN)             SIDEWALK    True   \n",
       "2015-09-05 13:00:00                   SIMPLE            APARTMENT   False   \n",
       "\n",
       "                     Domestic  ...  X Coordinate  Y Coordinate  Year  \\\n",
       "Date                           ...                                     \n",
       "2015-09-05 13:30:00      True  ...       1165074       1875917  2015   \n",
       "2015-09-04 11:30:00     False  ...       1138875       1904869  2015   \n",
       "2018-09-01 00:01:00      True  ...             0             0  2018   \n",
       "2015-09-05 12:45:00     False  ...       1152037       1920384  2015   \n",
       "2015-09-05 13:00:00      True  ...       1141706       1900086  2015   \n",
       "\n",
       "                                 Updated On   Latitude  Longitude  \\\n",
       "Date                                                                \n",
       "2015-09-05 13:30:00  02/10/2018 03:50:01 PM  41.815117 -87.670000   \n",
       "2015-09-04 11:30:00  02/10/2018 03:50:01 PM  41.895080 -87.765400   \n",
       "2018-09-01 00:01:00  04/06/2019 04:04:43 PM   0.000000   0.000000   \n",
       "2015-09-05 12:45:00  02/10/2018 03:50:01 PM  41.937406 -87.716650   \n",
       "2015-09-05 13:00:00  02/10/2018 03:50:01 PM  41.881903 -87.755121   \n",
       "\n",
       "                                          Location  Day Month      Time  \n",
       "Date                                                                     \n",
       "2015-09-05 13:30:00  (41.815117282, -87.669999562)    5     9  13:30:00  \n",
       "2015-09-04 11:30:00  (41.895080471, -87.765400451)    4     9  11:30:00  \n",
       "2018-09-01 00:01:00                            0.0    1     9  00:01:00  \n",
       "2015-09-05 12:45:00  (41.937405765, -87.716649687)    5     9  12:45:00  \n",
       "2015-09-05 13:00:00  (41.881903443, -87.755121152)    5     9  13:00:00  \n",
       "\n",
       "[5 rows x 25 columns]"
      ]
     },
     "execution_count": 36,
     "metadata": {},
     "output_type": "execute_result"
    }
   ],
   "source": [
    "Crimes_Data.head()"
   ]
  },
  {
   "cell_type": "markdown",
   "metadata": {},
   "source": [
    "### Histogram plot after cleaning the data"
   ]
  },
  {
   "cell_type": "code",
   "execution_count": 37,
   "metadata": {},
   "outputs": [
    {
     "data": {
      "text/plain": [
       "array([[<AxesSubplot:title={'center':'ID'}>,\n",
       "        <AxesSubplot:title={'center':'Date'}>,\n",
       "        <AxesSubplot:title={'center':'Beat'}>,\n",
       "        <AxesSubplot:title={'center':'District'}>],\n",
       "       [<AxesSubplot:title={'center':'Ward'}>,\n",
       "        <AxesSubplot:title={'center':'Community Area'}>,\n",
       "        <AxesSubplot:title={'center':'X Coordinate'}>,\n",
       "        <AxesSubplot:title={'center':'Y Coordinate'}>],\n",
       "       [<AxesSubplot:title={'center':'Year'}>,\n",
       "        <AxesSubplot:title={'center':'Latitude'}>,\n",
       "        <AxesSubplot:title={'center':'Longitude'}>,\n",
       "        <AxesSubplot:title={'center':'Day'}>],\n",
       "       [<AxesSubplot:title={'center':'Month'}>, <AxesSubplot:>,\n",
       "        <AxesSubplot:>, <AxesSubplot:>]], dtype=object)"
      ]
     },
     "execution_count": 37,
     "metadata": {},
     "output_type": "execute_result"
    },
    {
     "data": {
      "image/png": "[encoded data removed]",
      "text/plain": [
       "<Figure size 1440x720 with 16 Axes>"
      ]
     },
     "metadata": {
      "needs_background": "light"
     },
     "output_type": "display_data"
    }
   ],
   "source": [
    "Crimes_Data.hist(color='teal',figsize=(20,10))"
   ]
  },
  {
   "cell_type": "markdown",
   "metadata": {},
   "source": [
    "### Primary Type unique value counts"
   ]
  },
  {
   "cell_type": "code",
   "execution_count": 38,
   "metadata": {
    "colab": {
     "base_uri": "https://localhost:8080/",
     "height": 661
    },
    "id": "JgcWrgfg9V_U",
    "outputId": "079b18b9-2737-4edc-f76c-1cc72ac37d88",
    "scrolled": false
   },
   "outputs": [
    {
     "data": {
      "text/plain": [
       "<AxesSubplot:>"
      ]
     },
     "execution_count": 38,
     "metadata": {},
     "output_type": "execute_result"
    },
    {
     "data": {
      "image/png": "[encoded data removed]",
      "text/plain": [
       "<Figure size 432x288 with 1 Axes>"
      ]
     },
     "metadata": {
      "needs_background": "light"
     },
     "output_type": "display_data"
    }
   ],
   "source": [
    "Crimes_Data[\"Primary Type\"].value_counts().plot(kind='bar',color='plum')"
   ]
  },
  {
   "cell_type": "markdown",
   "metadata": {},
   "source": [
    "### Top ten crimes "
   ]
  },
  {
   "cell_type": "code",
   "execution_count": 39,
   "metadata": {
    "colab": {
     "base_uri": "https://localhost:8080/"
    },
    "id": "hPRw4pLD9sQh",
    "outputId": "57542045-6890-4494-cd0c-5b5dcab12ca2",
    "scrolled": true
   },
   "outputs": [
    {
     "name": "stdout",
     "output_type": "stream",
     "text": [
      "THEFT                  22272\n",
      "BATTERY                18133\n",
      "CRIMINAL DAMAGE        11176\n",
      "NARCOTICS               7731\n",
      "DECEPTIVE PRACTICE      6700\n",
      "OTHER OFFENSE           6588\n",
      "ASSAULT                 6263\n",
      "BURGLARY                5355\n",
      "ROBBERY                 3913\n",
      "MOTOR VEHICLE THEFT     3855\n",
      "Name: Primary Type, dtype: int64\n"
     ]
    }
   ],
   "source": [
    "Top_10_Crimes =  Crimes_Data['Primary Type'].value_counts().sort_values(ascending=False).head(10)\n",
    "print(Top_10_Crimes)"
   ]
  },
  {
   "cell_type": "markdown",
   "metadata": {},
   "source": [
    "### Plotting top 10 crimes"
   ]
  },
  {
   "cell_type": "code",
   "execution_count": 40,
   "metadata": {
    "colab": {
     "base_uri": "https://localhost:8080/",
     "height": 460
    },
    "id": "C_-bCiKV8Ys4",
    "outputId": "9523231b-8971-4698-a1d8-291d2da9ee08",
    "scrolled": true
   },
   "outputs": [
    {
     "data": {
      "image/png": "[encoded data removed]",
      "text/plain": [
       "<Figure size 432x288 with 1 Axes>"
      ]
     },
     "metadata": {
      "needs_background": "light"
     },
     "output_type": "display_data"
    }
   ],
   "source": [
    "Top10Crimes = Crimes_Data.value_counts('Primary Type')[:10].\\\n",
    "    plot(kind = 'barh',\\\n",
    "         title = \"Top 10 Crimes\", color='lightcoral'\n",
    "        )\n",
    "\n",
    "Top10Crimes.set_xlabel(\"Count\")\n",
    "Top10Crimes.set_ylabel(\"Crime\")\n",
    "plt.show()\n"
   ]
  },
  {
   "cell_type": "markdown",
   "metadata": {},
   "source": [
    "### Arrest unique value counts"
   ]
  },
  {
   "cell_type": "code",
   "execution_count": 41,
   "metadata": {
    "colab": {
     "base_uri": "https://localhost:8080/",
     "height": 468
    },
    "id": "3ViGY8D1AreV",
    "outputId": "50232a03-ba05-4ac3-9719-330be52d7fed",
    "scrolled": false
   },
   "outputs": [
    {
     "data": {
      "text/plain": [
       "<AxesSubplot:>"
      ]
     },
     "execution_count": 41,
     "metadata": {},
     "output_type": "execute_result"
    },
    {
     "data": {
      "image/png": "[encoded data removed]",
      "text/plain": [
       "<Figure size 432x288 with 1 Axes>"
      ]
     },
     "metadata": {
      "needs_background": "light"
     },
     "output_type": "display_data"
    }
   ],
   "source": [
    "Crimes_Data.Arrest.value_counts().plot(kind='bar',color='slateblue')"
   ]
  },
  {
   "cell_type": "markdown",
   "metadata": {},
   "source": [
    "### People arrested in different crimes"
   ]
  },
  {
   "cell_type": "code",
   "execution_count": 132,
   "metadata": {
    "colab": {
     "base_uri": "https://localhost:8080/",
     "height": 1000
    },
    "id": "AuBo6qgt-XJ7",
    "outputId": "a5e861cc-19a1-47fc-9936-220ffe573eba",
    "scrolled": false
   },
   "outputs": [
    {
     "data": {
      "text/plain": [
       "<seaborn.axisgrid.FacetGrid at 0x21ec63ed0a0>"
      ]
     },
     "execution_count": 132,
     "metadata": {},
     "output_type": "execute_result"
    },
    {
     "data": {
      "image/png": "[encoded data removed]",
      "text/plain": [
       "<Figure size 1140.62x1080 with 1 Axes>"
      ]
     },
     "metadata": {},
     "output_type": "display_data"
    }
   ],
   "source": [
    "Arrested_Data = sns.factorplot(y=\"Primary Type\", hue=\"Arrest\", kind=\"count\",\n",
    "                   data=Crimes_Data,size=15)\n",
    "Arrested_Data.set_ylabels(\"Different Crime Categories and Number of people Arrested for particular crimes\") "
   ]
  },
  {
   "cell_type": "markdown",
   "metadata": {},
   "source": [
    "### The aggregation of the arrest count"
   ]
  },
  {
   "cell_type": "code",
   "execution_count": 43,
   "metadata": {
    "colab": {
     "base_uri": "https://localhost:8080/"
    },
    "id": "4ntg5fF2CeyQ",
    "outputId": "5415d21a-7c48-4c42-e30d-fe5a7d832432",
    "scrolled": false
   },
   "outputs": [
    {
     "data": {
      "text/plain": [
       "Arrest\n",
       "False    75593\n",
       "True     24407\n",
       "Name: Arrest, dtype: int64"
      ]
     },
     "execution_count": 43,
     "metadata": {},
     "output_type": "execute_result"
    }
   ],
   "source": [
    "Arrested=Crimes_Data.groupby('Arrest')['Arrest'].agg('count').sort_values(ascending=False)\n",
    "Arrested"
   ]
  },
  {
   "cell_type": "markdown",
   "metadata": {},
   "source": [
    "### Crimes per district"
   ]
  },
  {
   "cell_type": "code",
   "execution_count": 44,
   "metadata": {
    "scrolled": false
   },
   "outputs": [
    {
     "data": {
      "text/plain": [
       "Text(0.5, 1.0, 'Crime per police district ')"
      ]
     },
     "execution_count": 44,
     "metadata": {},
     "output_type": "execute_result"
    },
    {
     "data": {
      "image/png": "[encoded data removed]",
      "text/plain": [
       "<Figure size 720x360 with 1 Axes>"
      ]
     },
     "metadata": {
      "needs_background": "light"
     },
     "output_type": "display_data"
    }
   ],
   "source": [
    "plt.figure(figsize=(10,5))\n",
    "sns.countplot(x = Crimes_Data['District'])\n",
    "plt.axhline(Crimes_Data['District'].value_counts().mean(), color = 'black', alpha = 0.5)\n",
    "plt.xlabel('District')\n",
    "plt.ylabel('Total crime')\n",
    "plt.title('Crime per police district ')"
   ]
  },
  {
   "cell_type": "markdown",
   "metadata": {},
   "source": [
    "### Number of crimes per month in a year"
   ]
  },
  {
   "cell_type": "code",
   "execution_count": 45,
   "metadata": {
    "scrolled": true
   },
   "outputs": [
    {
     "data": {
      "image/png": "[encoded data removed]",
      "text/plain": [
       "<Figure size 432x288 with 1 Axes>"
      ]
     },
     "metadata": {
      "needs_background": "light"
     },
     "output_type": "display_data"
    }
   ],
   "source": [
    "Crimes_Data.groupby([Crimes_Data.index.month]).size().plot(kind='barh')\n",
    "plt.ylabel('Months of the year')\n",
    "plt.xlabel('Number of Crimes')\n",
    "plt.title('Number of Crimes by month of the year')\n",
    "plt.show()"
   ]
  },
  {
   "cell_type": "markdown",
   "metadata": {},
   "source": [
    "### Number of crimes by location"
   ]
  },
  {
   "cell_type": "code",
   "execution_count": 128,
   "metadata": {},
   "outputs": [
    {
     "data": {
      "image/png": "[encoded data removed]",
      "text/plain": [
       "<Figure size 720x720 with 1 Axes>"
      ]
     },
     "metadata": {},
     "output_type": "display_data"
    }
   ],
   "source": [
    "plt.figure(figsize=(10,10))\n",
    "Crimes_Data.groupby([Crimes_Data['Location Description']]).size()[:15].sort_values(ascending=True).plot(kind='barh')\n",
    "plt.title('Number of Crimes by Location')\n",
    "plt.ylabel('Crime Location')\n",
    "plt.xlabel('Number of Crimes')\n",
    "plt.show()"
   ]
  },
  {
   "cell_type": "markdown",
   "metadata": {},
   "source": [
    "### Number of criminals arrested using pieplot in percentages"
   ]
  },
  {
   "cell_type": "code",
   "execution_count": 47,
   "metadata": {
    "colab": {
     "base_uri": "https://localhost:8080/",
     "height": 361
    },
    "id": "_6kd5aWrCHw6",
    "outputId": "f9c1bb19-7541-4dc3-94aa-e45213e23a98"
   },
   "outputs": [
    {
     "data": {
      "image/png": "[encoded data removed]",
      "text/plain": [
       "<Figure size 360x360 with 1 Axes>"
      ]
     },
     "metadata": {},
     "output_type": "display_data"
    }
   ],
   "source": [
    "Arrested.plot(kind='pie',figsize=(5,5),autopct=\"%3.0f%%\",colors=['teal','paleturquoise'],shadow=True,fontsize=10,explode=[0.05,.02])\n",
    "\n",
    "plt.title('Criminals Arrested ?',fontsize=5)\n",
    "\n",
    "plt.tight_layout()"
   ]
  },
  {
   "cell_type": "markdown",
   "metadata": {},
   "source": [
    "### Distribution of crimes by community area"
   ]
  },
  {
   "cell_type": "code",
   "execution_count": 48,
   "metadata": {
    "colab": {
     "base_uri": "https://localhost:8080/",
     "height": 342
    },
    "id": "tHKuZm-ACVqa",
    "outputId": "865887b7-6216-44c0-e903-26dd76bd0d53",
    "scrolled": true
   },
   "outputs": [
    {
     "data": {
      "image/png": "[encoded data removed]",
      "text/plain": [
       "<Figure size 720x360 with 1 Axes>"
      ]
     },
     "metadata": {
      "needs_background": "light"
     },
     "output_type": "display_data"
    }
   ],
   "source": [
    "plt.figure(figsize=(10,5))\n",
    "sns.set_style(\"whitegrid\")\n",
    "sns.distplot(Crimes_Data[\"Community Area\"], color='olivedrab')\n",
    "plt.show()"
   ]
  },
  {
   "cell_type": "markdown",
   "metadata": {},
   "source": [
    "### Distribution of crimes by Accidents occured"
   ]
  },
  {
   "cell_type": "code",
   "execution_count": 49,
   "metadata": {
    "colab": {
     "base_uri": "https://localhost:8080/",
     "height": 342
    },
    "id": "-vJAEYO7DBGo",
    "outputId": "6120fd57-4075-48f4-ef10-1bd75b0756ee",
    "scrolled": false
   },
   "outputs": [
    {
     "data": {
      "image/png": "[encoded data removed]",
      "text/plain": [
       "<Figure size 720x360 with 1 Axes>"
      ]
     },
     "metadata": {},
     "output_type": "display_data"
    }
   ],
   "source": [
    "plt.figure(figsize=(10,5))\n",
    "sns.set_style(\"whitegrid\")\n",
    "sns.distplot(Crimes_Data[\"Beat\"],color='lightseagreen')\n",
    "plt.show()"
   ]
  },
  {
   "cell_type": "markdown",
   "metadata": {},
   "source": [
    " Here if we observe the distribution higher in between the 500 to 1000"
   ]
  },
  {
   "cell_type": "code",
   "execution_count": 50,
   "metadata": {
    "colab": {
     "base_uri": "https://localhost:8080/",
     "height": 474
    },
    "id": "b9gt2c65HD3m",
    "outputId": "59362511-38df-47c0-ff61-5d74c023a108",
    "scrolled": false
   },
   "outputs": [
    {
     "data": {
      "text/html": [
       "<div>\n",
       "<style scoped>\n",
       "    .dataframe tbody tr th:only-of-type {\n",
       "        vertical-align: middle;\n",
       "    }\n",
       "\n",
       "    .dataframe tbody tr th {\n",
       "        vertical-align: top;\n",
       "    }\n",
       "\n",
       "    .dataframe thead th {\n",
       "        text-align: right;\n",
       "    }\n",
       "</style>\n",
       "<table border=\"1\" class=\"dataframe\">\n",
       "  <thead>\n",
       "    <tr style=\"text-align: right;\">\n",
       "      <th></th>\n",
       "      <th>ID</th>\n",
       "      <th>Case Number</th>\n",
       "      <th>Date</th>\n",
       "      <th>Block</th>\n",
       "      <th>IUCR</th>\n",
       "      <th>Primary Type</th>\n",
       "      <th>Description</th>\n",
       "      <th>Location Description</th>\n",
       "      <th>Arrest</th>\n",
       "      <th>Domestic</th>\n",
       "      <th>...</th>\n",
       "      <th>X Coordinate</th>\n",
       "      <th>Y Coordinate</th>\n",
       "      <th>Year</th>\n",
       "      <th>Updated On</th>\n",
       "      <th>Latitude</th>\n",
       "      <th>Longitude</th>\n",
       "      <th>Location</th>\n",
       "      <th>Day</th>\n",
       "      <th>Month</th>\n",
       "      <th>Time</th>\n",
       "    </tr>\n",
       "    <tr>\n",
       "      <th>Date</th>\n",
       "      <th></th>\n",
       "      <th></th>\n",
       "      <th></th>\n",
       "      <th></th>\n",
       "      <th></th>\n",
       "      <th></th>\n",
       "      <th></th>\n",
       "      <th></th>\n",
       "      <th></th>\n",
       "      <th></th>\n",
       "      <th></th>\n",
       "      <th></th>\n",
       "      <th></th>\n",
       "      <th></th>\n",
       "      <th></th>\n",
       "      <th></th>\n",
       "      <th></th>\n",
       "      <th></th>\n",
       "      <th></th>\n",
       "      <th></th>\n",
       "      <th></th>\n",
       "    </tr>\n",
       "  </thead>\n",
       "  <tbody>\n",
       "    <tr>\n",
       "      <th>2015-09-05 13:30:00</th>\n",
       "      <td>10224738</td>\n",
       "      <td>HY411648</td>\n",
       "      <td>2015-09-05 13:30:00</td>\n",
       "      <td>043XX S WOOD ST</td>\n",
       "      <td>0486</td>\n",
       "      <td>BATTERY</td>\n",
       "      <td>DOMESTIC BATTERY SIMPLE</td>\n",
       "      <td>RESIDENCE</td>\n",
       "      <td>False</td>\n",
       "      <td>True</td>\n",
       "      <td>...</td>\n",
       "      <td>1165074</td>\n",
       "      <td>1875917</td>\n",
       "      <td>2015</td>\n",
       "      <td>02/10/2018 03:50:01 PM</td>\n",
       "      <td>41.815117</td>\n",
       "      <td>-87.670000</td>\n",
       "      <td>(41.815117282, -87.669999562)</td>\n",
       "      <td>5</td>\n",
       "      <td>9</td>\n",
       "      <td>13:30:00</td>\n",
       "    </tr>\n",
       "    <tr>\n",
       "      <th>2015-09-04 11:30:00</th>\n",
       "      <td>10224739</td>\n",
       "      <td>HY411615</td>\n",
       "      <td>2015-09-04 11:30:00</td>\n",
       "      <td>008XX N CENTRAL AVE</td>\n",
       "      <td>0870</td>\n",
       "      <td>THEFT</td>\n",
       "      <td>POCKET-PICKING</td>\n",
       "      <td>CTA BUS</td>\n",
       "      <td>False</td>\n",
       "      <td>False</td>\n",
       "      <td>...</td>\n",
       "      <td>1138875</td>\n",
       "      <td>1904869</td>\n",
       "      <td>2015</td>\n",
       "      <td>02/10/2018 03:50:01 PM</td>\n",
       "      <td>41.895080</td>\n",
       "      <td>-87.765400</td>\n",
       "      <td>(41.895080471, -87.765400451)</td>\n",
       "      <td>4</td>\n",
       "      <td>9</td>\n",
       "      <td>11:30:00</td>\n",
       "    </tr>\n",
       "    <tr>\n",
       "      <th>2018-09-01 00:01:00</th>\n",
       "      <td>11646166</td>\n",
       "      <td>JC213529</td>\n",
       "      <td>2018-09-01 00:01:00</td>\n",
       "      <td>082XX S INGLESIDE AVE</td>\n",
       "      <td>0810</td>\n",
       "      <td>THEFT</td>\n",
       "      <td>OVER $500</td>\n",
       "      <td>RESIDENCE</td>\n",
       "      <td>False</td>\n",
       "      <td>True</td>\n",
       "      <td>...</td>\n",
       "      <td>0</td>\n",
       "      <td>0</td>\n",
       "      <td>2018</td>\n",
       "      <td>04/06/2019 04:04:43 PM</td>\n",
       "      <td>0.000000</td>\n",
       "      <td>0.000000</td>\n",
       "      <td>0.0</td>\n",
       "      <td>1</td>\n",
       "      <td>9</td>\n",
       "      <td>00:01:00</td>\n",
       "    </tr>\n",
       "    <tr>\n",
       "      <th>2015-09-05 12:45:00</th>\n",
       "      <td>10224740</td>\n",
       "      <td>HY411595</td>\n",
       "      <td>2015-09-05 12:45:00</td>\n",
       "      <td>035XX W BARRY AVE</td>\n",
       "      <td>2023</td>\n",
       "      <td>NARCOTICS</td>\n",
       "      <td>POSS: HEROIN(BRN/TAN)</td>\n",
       "      <td>SIDEWALK</td>\n",
       "      <td>True</td>\n",
       "      <td>False</td>\n",
       "      <td>...</td>\n",
       "      <td>1152037</td>\n",
       "      <td>1920384</td>\n",
       "      <td>2015</td>\n",
       "      <td>02/10/2018 03:50:01 PM</td>\n",
       "      <td>41.937406</td>\n",
       "      <td>-87.716650</td>\n",
       "      <td>(41.937405765, -87.716649687)</td>\n",
       "      <td>5</td>\n",
       "      <td>9</td>\n",
       "      <td>12:45:00</td>\n",
       "    </tr>\n",
       "    <tr>\n",
       "      <th>2015-09-05 13:00:00</th>\n",
       "      <td>10224741</td>\n",
       "      <td>HY411610</td>\n",
       "      <td>2015-09-05 13:00:00</td>\n",
       "      <td>0000X N LARAMIE AVE</td>\n",
       "      <td>0560</td>\n",
       "      <td>ASSAULT</td>\n",
       "      <td>SIMPLE</td>\n",
       "      <td>APARTMENT</td>\n",
       "      <td>False</td>\n",
       "      <td>True</td>\n",
       "      <td>...</td>\n",
       "      <td>1141706</td>\n",
       "      <td>1900086</td>\n",
       "      <td>2015</td>\n",
       "      <td>02/10/2018 03:50:01 PM</td>\n",
       "      <td>41.881903</td>\n",
       "      <td>-87.755121</td>\n",
       "      <td>(41.881903443, -87.755121152)</td>\n",
       "      <td>5</td>\n",
       "      <td>9</td>\n",
       "      <td>13:00:00</td>\n",
       "    </tr>\n",
       "  </tbody>\n",
       "</table>\n",
       "<p>5 rows × 25 columns</p>\n",
       "</div>"
      ],
      "text/plain": [
       "                           ID Case Number                Date  \\\n",
       "Date                                                            \n",
       "2015-09-05 13:30:00  10224738    HY411648 2015-09-05 13:30:00   \n",
       "2015-09-04 11:30:00  10224739    HY411615 2015-09-04 11:30:00   \n",
       "2018-09-01 00:01:00  11646166    JC213529 2018-09-01 00:01:00   \n",
       "2015-09-05 12:45:00  10224740    HY411595 2015-09-05 12:45:00   \n",
       "2015-09-05 13:00:00  10224741    HY411610 2015-09-05 13:00:00   \n",
       "\n",
       "                                     Block  IUCR Primary Type  \\\n",
       "Date                                                            \n",
       "2015-09-05 13:30:00        043XX S WOOD ST  0486      BATTERY   \n",
       "2015-09-04 11:30:00    008XX N CENTRAL AVE  0870        THEFT   \n",
       "2018-09-01 00:01:00  082XX S INGLESIDE AVE  0810        THEFT   \n",
       "2015-09-05 12:45:00      035XX W BARRY AVE  2023    NARCOTICS   \n",
       "2015-09-05 13:00:00    0000X N LARAMIE AVE  0560      ASSAULT   \n",
       "\n",
       "                                 Description Location Description  Arrest  \\\n",
       "Date                                                                        \n",
       "2015-09-05 13:30:00  DOMESTIC BATTERY SIMPLE            RESIDENCE   False   \n",
       "2015-09-04 11:30:00           POCKET-PICKING              CTA BUS   False   \n",
       "2018-09-01 00:01:00                OVER $500            RESIDENCE   False   \n",
       "2015-09-05 12:45:00    POSS: HEROIN(BRN/TAN)             SIDEWALK    True   \n",
       "2015-09-05 13:00:00                   SIMPLE            APARTMENT   False   \n",
       "\n",
       "                     Domestic  ...  X Coordinate  Y Coordinate  Year  \\\n",
       "Date                           ...                                     \n",
       "2015-09-05 13:30:00      True  ...       1165074       1875917  2015   \n",
       "2015-09-04 11:30:00     False  ...       1138875       1904869  2015   \n",
       "2018-09-01 00:01:00      True  ...             0             0  2018   \n",
       "2015-09-05 12:45:00     False  ...       1152037       1920384  2015   \n",
       "2015-09-05 13:00:00      True  ...       1141706       1900086  2015   \n",
       "\n",
       "                                 Updated On   Latitude  Longitude  \\\n",
       "Date                                                                \n",
       "2015-09-05 13:30:00  02/10/2018 03:50:01 PM  41.815117 -87.670000   \n",
       "2015-09-04 11:30:00  02/10/2018 03:50:01 PM  41.895080 -87.765400   \n",
       "2018-09-01 00:01:00  04/06/2019 04:04:43 PM   0.000000   0.000000   \n",
       "2015-09-05 12:45:00  02/10/2018 03:50:01 PM  41.937406 -87.716650   \n",
       "2015-09-05 13:00:00  02/10/2018 03:50:01 PM  41.881903 -87.755121   \n",
       "\n",
       "                                          Location  Day Month      Time  \n",
       "Date                                                                     \n",
       "2015-09-05 13:30:00  (41.815117282, -87.669999562)    5     9  13:30:00  \n",
       "2015-09-04 11:30:00  (41.895080471, -87.765400451)    4     9  11:30:00  \n",
       "2018-09-01 00:01:00                            0.0    1     9  00:01:00  \n",
       "2015-09-05 12:45:00  (41.937405765, -87.716649687)    5     9  12:45:00  \n",
       "2015-09-05 13:00:00  (41.881903443, -87.755121152)    5     9  13:00:00  \n",
       "\n",
       "[5 rows x 25 columns]"
      ]
     },
     "execution_count": 50,
     "metadata": {},
     "output_type": "execute_result"
    }
   ],
   "source": [
    "Crimes_Data.head()"
   ]
  },
  {
   "cell_type": "markdown",
   "metadata": {},
   "source": [
    "### Correlation of the Dataframe"
   ]
  },
  {
   "cell_type": "code",
   "execution_count": 51,
   "metadata": {
    "colab": {
     "base_uri": "https://localhost:8080/",
     "height": 700
    },
    "id": "9aeglJtuMaEy",
    "outputId": "2704ad86-035c-4aee-97ad-fe73e89e1a3d"
   },
   "outputs": [
    {
     "data": {
      "text/plain": [
       "<AxesSubplot:>"
      ]
     },
     "execution_count": 51,
     "metadata": {},
     "output_type": "execute_result"
    },
    {
     "data": {
      "image/png": "[encoded data removed]",
      "text/plain": [
       "<Figure size 864x720 with 2 Axes>"
      ]
     },
     "metadata": {},
     "output_type": "display_data"
    }
   ],
   "source": [
    "plt.figure(figsize=(12,10))\n",
    "sns.heatmap(Crimes_Data.corr(),annot=True)"
   ]
  },
  {
   "cell_type": "code",
   "execution_count": 52,
   "metadata": {
    "scrolled": true
   },
   "outputs": [
    {
     "data": {
      "text/plain": [
       "Index(['ID', 'Case Number', 'Date', 'Block', 'IUCR', 'Primary Type',\n",
       "       'Description', 'Location Description', 'Arrest', 'Domestic', 'Beat',\n",
       "       'District', 'Ward', 'Community Area', 'FBI Code', 'X Coordinate',\n",
       "       'Y Coordinate', 'Year', 'Updated On', 'Latitude', 'Longitude',\n",
       "       'Location', 'Day', 'Month', 'Time'],\n",
       "      dtype='object')"
      ]
     },
     "execution_count": 52,
     "metadata": {},
     "output_type": "execute_result"
    }
   ],
   "source": [
    "Crimes_Data.columns"
   ]
  },
  {
   "cell_type": "markdown",
   "metadata": {},
   "source": [
    "### Feature selection for the modeling\n",
    "1. Since we are restricting the problem data to that which can be obtained , we are gonna drop all but those variables.\n",
    "2. As for the target variable, we are only considering the 'Primary Type'.\n",
    "\n",
    "\n",
    "\n"
   ]
  },
  {
   "cell_type": "code",
   "execution_count": 53,
   "metadata": {
    "id": "HhMYL4IRLeg8"
   },
   "outputs": [],
   "source": [
    "Chicago_Crimes_Data =  Crimes_Data.drop(['ID','Date', 'Block',\n",
    "       'Description','Beat', 'District', 'Ward',\n",
    "       'Community Area', 'X Coordinate', 'Y Coordinate', 'Year',\n",
    "       'Updated On', 'Latitude', 'Longitude', 'Location', 'Day', 'Month',\n",
    "       'Time','Location Description'],\n",
    "                             axis=1)"
   ]
  },
  {
   "cell_type": "code",
   "execution_count": 54,
   "metadata": {
    "colab": {
     "base_uri": "https://localhost:8080/"
    },
    "id": "PdZl4C-HOtf8",
    "outputId": "c84a02db-b201-45d0-ead6-a8ef5fd28bc7",
    "scrolled": true
   },
   "outputs": [
    {
     "data": {
      "text/plain": [
       "Index(['Case Number', 'IUCR', 'Primary Type', 'Arrest', 'Domestic',\n",
       "       'FBI Code'],\n",
       "      dtype='object')"
      ]
     },
     "execution_count": 54,
     "metadata": {},
     "output_type": "execute_result"
    }
   ],
   "source": [
    "Chicago_Crimes_Data.columns"
   ]
  },
  {
   "cell_type": "code",
   "execution_count": 55,
   "metadata": {},
   "outputs": [
    {
     "data": {
      "text/plain": [
       "Case Number     object\n",
       "IUCR            object\n",
       "Primary Type    object\n",
       "Arrest            bool\n",
       "Domestic          bool\n",
       "FBI Code        object\n",
       "dtype: object"
      ]
     },
     "execution_count": 55,
     "metadata": {},
     "output_type": "execute_result"
    }
   ],
   "source": [
    "Chicago_Crimes_Data.dtypes"
   ]
  },
  {
   "cell_type": "code",
   "execution_count": 56,
   "metadata": {
    "scrolled": true
   },
   "outputs": [
    {
     "data": {
      "text/html": [
       "<div>\n",
       "<style scoped>\n",
       "    .dataframe tbody tr th:only-of-type {\n",
       "        vertical-align: middle;\n",
       "    }\n",
       "\n",
       "    .dataframe tbody tr th {\n",
       "        vertical-align: top;\n",
       "    }\n",
       "\n",
       "    .dataframe thead th {\n",
       "        text-align: right;\n",
       "    }\n",
       "</style>\n",
       "<table border=\"1\" class=\"dataframe\">\n",
       "  <thead>\n",
       "    <tr style=\"text-align: right;\">\n",
       "      <th></th>\n",
       "      <th>Case Number</th>\n",
       "      <th>IUCR</th>\n",
       "      <th>Primary Type</th>\n",
       "      <th>Arrest</th>\n",
       "      <th>Domestic</th>\n",
       "      <th>FBI Code</th>\n",
       "    </tr>\n",
       "    <tr>\n",
       "      <th>Date</th>\n",
       "      <th></th>\n",
       "      <th></th>\n",
       "      <th></th>\n",
       "      <th></th>\n",
       "      <th></th>\n",
       "      <th></th>\n",
       "    </tr>\n",
       "  </thead>\n",
       "  <tbody>\n",
       "    <tr>\n",
       "      <th>2015-09-05 13:30:00</th>\n",
       "      <td>HY411648</td>\n",
       "      <td>0486</td>\n",
       "      <td>BATTERY</td>\n",
       "      <td>False</td>\n",
       "      <td>True</td>\n",
       "      <td>08B</td>\n",
       "    </tr>\n",
       "    <tr>\n",
       "      <th>2015-09-04 11:30:00</th>\n",
       "      <td>HY411615</td>\n",
       "      <td>0870</td>\n",
       "      <td>THEFT</td>\n",
       "      <td>False</td>\n",
       "      <td>False</td>\n",
       "      <td>06</td>\n",
       "    </tr>\n",
       "    <tr>\n",
       "      <th>2018-09-01 00:01:00</th>\n",
       "      <td>JC213529</td>\n",
       "      <td>0810</td>\n",
       "      <td>THEFT</td>\n",
       "      <td>False</td>\n",
       "      <td>True</td>\n",
       "      <td>06</td>\n",
       "    </tr>\n",
       "    <tr>\n",
       "      <th>2015-09-05 12:45:00</th>\n",
       "      <td>HY411595</td>\n",
       "      <td>2023</td>\n",
       "      <td>NARCOTICS</td>\n",
       "      <td>True</td>\n",
       "      <td>False</td>\n",
       "      <td>18</td>\n",
       "    </tr>\n",
       "    <tr>\n",
       "      <th>2015-09-05 13:00:00</th>\n",
       "      <td>HY411610</td>\n",
       "      <td>0560</td>\n",
       "      <td>ASSAULT</td>\n",
       "      <td>False</td>\n",
       "      <td>True</td>\n",
       "      <td>08A</td>\n",
       "    </tr>\n",
       "  </tbody>\n",
       "</table>\n",
       "</div>"
      ],
      "text/plain": [
       "                    Case Number  IUCR Primary Type  Arrest  Domestic FBI Code\n",
       "Date                                                                         \n",
       "2015-09-05 13:30:00    HY411648  0486      BATTERY   False      True      08B\n",
       "2015-09-04 11:30:00    HY411615  0870        THEFT   False     False       06\n",
       "2018-09-01 00:01:00    JC213529  0810        THEFT   False      True       06\n",
       "2015-09-05 12:45:00    HY411595  2023    NARCOTICS    True     False       18\n",
       "2015-09-05 13:00:00    HY411610  0560      ASSAULT   False      True      08A"
      ]
     },
     "execution_count": 56,
     "metadata": {},
     "output_type": "execute_result"
    }
   ],
   "source": [
    "Chicago_Crimes_Data.head()"
   ]
  },
  {
   "cell_type": "markdown",
   "metadata": {},
   "source": [
    "### Model Building"
   ]
  },
  {
   "cell_type": "code",
   "execution_count": 57,
   "metadata": {},
   "outputs": [],
   "source": [
    "from sklearn.preprocessing import OneHotEncoder, label_binarize, StandardScaler, MinMaxScaler\n",
    "from sklearn.impute import SimpleImputer\n",
    "from sklearn.model_selection import train_test_split\n",
    "\n",
    "from sklearn.linear_model import LogisticRegression\n",
    "from sklearn.tree import DecisionTreeClassifier\n",
    "from sklearn.neighbors import KNeighborsClassifier\n",
    "\n",
    "\n",
    "from sklearn.pipeline import Pipeline\n",
    "from sklearn.compose import ColumnTransformer\n",
    "\n",
    "from sklearn.model_selection import cross_val_score,GridSearchCV,cross_validate\n",
    "from sklearn.metrics import precision_score, recall_score, f1_score,accuracy_score,confusion_matrix,roc_auc_score\n",
    "from sklearn.metrics import roc_curve, auc,classification_report\n",
    "from sklearn.model_selection import cross_validate\n",
    "from sklearn.multiclass import OneVsRestClassifier\n",
    "from sklearn.metrics import confusion_matrix"
   ]
  },
  {
   "cell_type": "markdown",
   "metadata": {},
   "source": [
    "### Split data into 2 parts, training and testing data"
   ]
  },
  {
   "cell_type": "code",
   "execution_count": 58,
   "metadata": {
    "scrolled": true
   },
   "outputs": [
    {
     "name": "stdout",
     "output_type": "stream",
     "text": [
      "Records in training data: 80,000\n",
      "Records in test data: 20,000\n",
      "\n",
      "Features:\n",
      "Case Number\n",
      "IUCR\n",
      "Primary Type\n",
      "Domestic\n",
      "FBI Code\n"
     ]
    }
   ],
   "source": [
    "from sklearn.model_selection import train_test_split\n",
    "features = [x for x in Chicago_Crimes_Data.columns if x != 'Arrest']\n",
    "\n",
    "X = Chicago_Crimes_Data[features]\n",
    "y = Crimes_Data['Arrest']\n",
    "\n",
    "X_train, X_test, y_train, y_test = train_test_split(X, y, test_size=0.2, random_state=100)\n",
    "\n",
    "print(f'Records in training data: {X_train.shape[0]:,}')\n",
    "print(f'Records in test data: {X_test.shape[0]:,}')\n",
    "print('\\nFeatures:')\n",
    "print(*X_train.columns, sep='\\n')"
   ]
  },
  {
   "cell_type": "markdown",
   "metadata": {},
   "source": [
    "### Creating Numerical List"
   ]
  },
  {
   "cell_type": "code",
   "execution_count": 59,
   "metadata": {},
   "outputs": [
    {
     "data": {
      "text/plain": [
       "['Case Number', 'IUCR', 'Primary Type', 'FBI Code']"
      ]
     },
     "execution_count": 59,
     "metadata": {},
     "output_type": "execute_result"
    }
   ],
   "source": [
    "Mylist_Categorical = list(X.select_dtypes(include=['object']).columns)\n",
    "Mylist_Categorical"
   ]
  },
  {
   "cell_type": "markdown",
   "metadata": {},
   "source": [
    "### Creating Categorical Pipeline"
   ]
  },
  {
   "cell_type": "code",
   "execution_count": 60,
   "metadata": {
    "scrolled": true
   },
   "outputs": [
    {
     "data": {
      "text/plain": [
       "(80000, 80356)"
      ]
     },
     "execution_count": 60,
     "metadata": {},
     "output_type": "execute_result"
    }
   ],
   "source": [
    "Categorical_Pipeline = Pipeline([('impute_missing', SimpleImputer(strategy='most_frequent')),\n",
    "                          ('create_dummies_cats', OneHotEncoder(handle_unknown='ignore'))])\n",
    "Cat = Categorical_Pipeline.fit_transform(np.array(X_train[Mylist_Categorical]))\n",
    "Cat.shape"
   ]
  },
  {
   "cell_type": "markdown",
   "metadata": {},
   "source": [
    "### Creating Processing pipeline"
   ]
  },
  {
   "cell_type": "code",
   "execution_count": 63,
   "metadata": {},
   "outputs": [],
   "source": [
    "Processing_Pipeline = ColumnTransformer(transformers=[('create_dummies',Categorical_Pipeline, Mylist_Categorical)])\n",
    "Proc_Pipeline = Processing_Pipeline.fit_transform(X_train)"
   ]
  },
  {
   "cell_type": "markdown",
   "metadata": {},
   "source": [
    "#### As here we observe, I have no numercial feature to create numerical pipeline"
   ]
  },
  {
   "cell_type": "markdown",
   "metadata": {},
   "source": [
    "### Logistic Regression Model"
   ]
  },
  {
   "cell_type": "markdown",
   "metadata": {},
   "source": [
    "#### First Iteration"
   ]
  },
  {
   "cell_type": "markdown",
   "metadata": {},
   "source": [
    "#### Creating pipeline and parameter tuning"
   ]
  },
  {
   "cell_type": "code",
   "execution_count": 64,
   "metadata": {},
   "outputs": [
    {
     "data": {
      "text/plain": [
       "{'model__C': 5, 'model__penalty': 'l2'}"
      ]
     },
     "execution_count": 64,
     "metadata": {},
     "output_type": "execute_result"
    }
   ],
   "source": [
    "Logistic_Regression_Model_Pipeline_1 = Pipeline([('processing_pipeline',Processing_Pipeline),\n",
    "                                     ('model', LogisticRegression(max_iter=1000))])\n",
    "params = [{'model__C':[0.1,0.3,0.5,1.0,5], 'model__penalty': ['l2']},{'model__penalty':['none']}]\n",
    "Logistic_regression_model_1 = GridSearchCV(Logistic_Regression_Model_Pipeline_1,param_grid=params,cv=5,scoring='accuracy')\n",
    "Logistic_regression_model_1 = Logistic_regression_model_1.fit(X_train,y_train)\n",
    "Logistic_regression_model_1.best_params_"
   ]
  },
  {
   "cell_type": "markdown",
   "metadata": {},
   "source": [
    "#### Prediction for Train and Test Data"
   ]
  },
  {
   "cell_type": "code",
   "execution_count": 65,
   "metadata": {},
   "outputs": [
    {
     "name": "stdout",
     "output_type": "stream",
     "text": [
      "[False False False ... False False False]\n",
      "[ True False False ...  True  True False]\n"
     ]
    }
   ],
   "source": [
    "Predict_y_test_lg = Logistic_regression_model_1.best_estimator_.predict(X_test)\n",
    "Predict_y_train_lg = Logistic_regression_model_1.best_estimator_.predict(X_train)\n",
    "print(Predict_y_test_lg)\n",
    "print(Predict_y_train_lg)"
   ]
  },
  {
   "cell_type": "code",
   "execution_count": 66,
   "metadata": {
    "scrolled": true
   },
   "outputs": [
    {
     "name": "stdout",
     "output_type": "stream",
     "text": [
      "Test Score:  88.60%\n"
     ]
    }
   ],
   "source": [
    "print(f'Test Score: {Logistic_regression_model_1.score(X_test, y_test): .2%}')"
   ]
  },
  {
   "cell_type": "code",
   "execution_count": 67,
   "metadata": {},
   "outputs": [
    {
     "name": "stdout",
     "output_type": "stream",
     "text": [
      "Train Score:  97.76%\n"
     ]
    }
   ],
   "source": [
    "print(f'Train Score: {Logistic_regression_model_1.score(X_train, y_train): .2%}')"
   ]
  },
  {
   "cell_type": "code",
   "execution_count": 68,
   "metadata": {},
   "outputs": [
    {
     "data": {
      "text/plain": [
       "array([[14644,   490],\n",
       "       [ 1790,  3076]], dtype=int64)"
      ]
     },
     "execution_count": 68,
     "metadata": {},
     "output_type": "execute_result"
    }
   ],
   "source": [
    "confusion_matrix(y_test,Predict_y_test_lg)"
   ]
  },
  {
   "cell_type": "code",
   "execution_count": 69,
   "metadata": {
    "scrolled": false
   },
   "outputs": [
    {
     "name": "stdout",
     "output_type": "stream",
     "text": [
      "              precision    recall  f1-score   support\n",
      "\n",
      "       False       0.89      0.97      0.93     15134\n",
      "        True       0.86      0.63      0.73      4866\n",
      "\n",
      "    accuracy                           0.89     20000\n",
      "   macro avg       0.88      0.80      0.83     20000\n",
      "weighted avg       0.88      0.89      0.88     20000\n",
      "\n"
     ]
    }
   ],
   "source": [
    "print(classification_report(y_test, Logistic_regression_model_1.best_estimator_.predict(X_test)))"
   ]
  },
  {
   "cell_type": "code",
   "execution_count": 70,
   "metadata": {
    "scrolled": true
   },
   "outputs": [
    {
     "name": "stdout",
     "output_type": "stream",
     "text": [
      "Accuracy Score:88.60%\n",
      "Precision Score:87.68%\n",
      "Recall Score:79.99%\n"
     ]
    }
   ],
   "source": [
    "print(f'Accuracy Score:{accuracy_score(y_test,Predict_y_test_lg):.2%}')\n",
    "print(f'Precision Score:{precision_score(y_test,Predict_y_test_lg,average=\"macro\"):.2%}')\n",
    "print(f'Recall Score:{recall_score(y_test,Predict_y_test_lg,average=\"macro\"):.2%}')"
   ]
  },
  {
   "cell_type": "code",
   "execution_count": 71,
   "metadata": {},
   "outputs": [
    {
     "name": "stdout",
     "output_type": "stream",
     "text": [
      "F1 Score:72.96%\n"
     ]
    }
   ],
   "source": [
    "print(f'F1 Score:{f1_score(y_test,Predict_y_test_lg):.2%}')"
   ]
  },
  {
   "cell_type": "markdown",
   "metadata": {},
   "source": [
    "#### Second Iteration"
   ]
  },
  {
   "cell_type": "code",
   "execution_count": 72,
   "metadata": {},
   "outputs": [
    {
     "data": {
      "text/plain": [
       "{'model__C': 5, 'model__penalty': 'l2'}"
      ]
     },
     "execution_count": 72,
     "metadata": {},
     "output_type": "execute_result"
    }
   ],
   "source": [
    "Logistic_Regression_Model_Pipeline_2 = Pipeline([('processing_pipeline',Processing_Pipeline),\n",
    "                                     ('model', LogisticRegression(max_iter=1000))])\n",
    "params = [{'model__C':[0.2,0.4,0.6,1.0,5], 'model__penalty': ['l2']},{'model__penalty':['none']}]\n",
    "Logistic_regression_model_2 = GridSearchCV(Logistic_Regression_Model_Pipeline_2,param_grid=params,cv=5,scoring='accuracy')\n",
    "Logistic_regression_model_2 = Logistic_regression_model_2.fit(X_train,y_train)\n",
    "Logistic_regression_model_2.best_params_"
   ]
  },
  {
   "cell_type": "code",
   "execution_count": 73,
   "metadata": {},
   "outputs": [
    {
     "name": "stdout",
     "output_type": "stream",
     "text": [
      "[False False False ... False False False]\n",
      "[ True False False ...  True  True False]\n"
     ]
    }
   ],
   "source": [
    "Predict_y_test_lgr = Logistic_regression_model_2.best_estimator_.predict(X_test)\n",
    "Predict_y_train_lgr = Logistic_regression_model_2.best_estimator_.predict(X_train)\n",
    "print(Predict_y_test_lgr)\n",
    "print(Predict_y_train_lgr)"
   ]
  },
  {
   "cell_type": "code",
   "execution_count": 74,
   "metadata": {},
   "outputs": [
    {
     "name": "stdout",
     "output_type": "stream",
     "text": [
      "Test Score:  88.60%\n"
     ]
    }
   ],
   "source": [
    "print(f'Test Score: {Logistic_regression_model_2.score(X_test, y_test): .2%}')"
   ]
  },
  {
   "cell_type": "code",
   "execution_count": 75,
   "metadata": {},
   "outputs": [
    {
     "name": "stdout",
     "output_type": "stream",
     "text": [
      "Train Score:  97.76%\n"
     ]
    }
   ],
   "source": [
    "print(f'Train Score: {Logistic_regression_model_2.score(X_train, y_train): .2%}')"
   ]
  },
  {
   "cell_type": "code",
   "execution_count": 76,
   "metadata": {},
   "outputs": [
    {
     "data": {
      "text/plain": [
       "array([[14644,   490],\n",
       "       [ 1790,  3076]], dtype=int64)"
      ]
     },
     "execution_count": 76,
     "metadata": {},
     "output_type": "execute_result"
    }
   ],
   "source": [
    "confusion_matrix(y_test,Predict_y_test_lgr)"
   ]
  },
  {
   "cell_type": "code",
   "execution_count": 77,
   "metadata": {},
   "outputs": [
    {
     "name": "stdout",
     "output_type": "stream",
     "text": [
      "              precision    recall  f1-score   support\n",
      "\n",
      "       False       0.89      0.97      0.93     15134\n",
      "        True       0.86      0.63      0.73      4866\n",
      "\n",
      "    accuracy                           0.89     20000\n",
      "   macro avg       0.88      0.80      0.83     20000\n",
      "weighted avg       0.88      0.89      0.88     20000\n",
      "\n"
     ]
    }
   ],
   "source": [
    "print(classification_report(y_test, Logistic_regression_model_2.best_estimator_.predict(X_test)))"
   ]
  },
  {
   "cell_type": "code",
   "execution_count": 78,
   "metadata": {},
   "outputs": [
    {
     "name": "stdout",
     "output_type": "stream",
     "text": [
      "Accuracy Score:88.60%\n",
      "Precision Score:87.68%\n",
      "Recall Score:79.99%\n"
     ]
    }
   ],
   "source": [
    "print(f'Accuracy Score:{accuracy_score(y_test,Predict_y_test_lgr):.2%}')\n",
    "print(f'Precision Score:{precision_score(y_test,Predict_y_test_lgr,average=\"macro\"):.2%}')\n",
    "print(f'Recall Score:{recall_score(y_test,Predict_y_test_lgr,average=\"macro\"):.2%}')"
   ]
  },
  {
   "cell_type": "code",
   "execution_count": 79,
   "metadata": {
    "scrolled": true
   },
   "outputs": [
    {
     "name": "stdout",
     "output_type": "stream",
     "text": [
      "F1 Score:72.96%\n"
     ]
    }
   ],
   "source": [
    "print(f'F1 Score:{f1_score(y_test,Predict_y_test_lgr):.2%}')"
   ]
  },
  {
   "cell_type": "markdown",
   "metadata": {},
   "source": [
    "#### Here if we observe the two iterations are being worked and we got the accurate scores for both iteration and the model is fitted here."
   ]
  },
  {
   "cell_type": "markdown",
   "metadata": {},
   "source": [
    "### ROC_Curve"
   ]
  },
  {
   "cell_type": "code",
   "execution_count": 80,
   "metadata": {
    "scrolled": true
   },
   "outputs": [
    {
     "data": {
      "image/png": "[encoded data removed]",
      "text/plain": [
       "<Figure size 432x288 with 1 Axes>"
      ]
     },
     "metadata": {},
     "output_type": "display_data"
    }
   ],
   "source": [
    "def generate_probs(X, model=Logistic_regression_model_2.best_estimator_):\n",
    "  return model.predict_proba(X)[:, 1]\n",
    "def generate_roc(y,probs):\n",
    "    fpr, tpr, _ = roc_curve(y, probs,pos_label=True)\n",
    "    return fpr,tpr\n",
    "fpr_test, tpr_test = generate_roc(y_test, generate_probs(X_test))\n",
    "fpr_train, tpr_train = generate_roc(y_train, generate_probs(X_train))\n",
    "\n",
    "plt.plot(fpr_test, tpr_test,'-*r')\n",
    "plt.plot(fpr_train, tpr_train,'-b')\n",
    "plt.xlabel('Flase Positive Rate')\n",
    "plt.ylabel('True Positive Rate')\n",
    "plt.legend(['Test','Training'])\n",
    "plt.plot([1,0],[1,0], color='purple', linestyle=\"--\")\n",
    "plt.show()"
   ]
  },
  {
   "cell_type": "code",
   "execution_count": 81,
   "metadata": {},
   "outputs": [
    {
     "name": "stdout",
     "output_type": "stream",
     "text": [
      " Roc_Accuracy_Score: 90.20%\n"
     ]
    }
   ],
   "source": [
    "print(f' Roc_Accuracy_Score: {roc_auc_score(y_test, generate_probs(X_test)):.2%}')"
   ]
  },
  {
   "cell_type": "markdown",
   "metadata": {},
   "source": [
    "### Decision Tree "
   ]
  },
  {
   "cell_type": "markdown",
   "metadata": {},
   "source": [
    "#### First Iteration"
   ]
  },
  {
   "cell_type": "code",
   "execution_count": 82,
   "metadata": {},
   "outputs": [
    {
     "data": {
      "text/plain": [
       "{'dt__max_depth': 15, 'dt__min_samples_leaf': 2, 'dt__min_samples_split': 3}"
      ]
     },
     "execution_count": 82,
     "metadata": {},
     "output_type": "execute_result"
    }
   ],
   "source": [
    "dt_pipeline = Pipeline([\n",
    "    ('processing_pipeline', Processing_Pipeline),\n",
    "    ('dt', DecisionTreeClassifier())]\n",
    ")\n",
    "\n",
    "param_grid = [\n",
    "  {'dt__max_depth': [1,5,10,15],\n",
    "   'dt__min_samples_split':[1,3,5],\n",
    "   'dt__min_samples_leaf': [1,2,5]\n",
    "  }\n",
    " ]\n",
    "\n",
    "Decision_Tree_results1 = GridSearchCV(estimator=dt_pipeline, \n",
    "                           param_grid=param_grid,cv=20, scoring='accuracy', refit=True)\n",
    "Decision_Tree_results1 = Decision_Tree_results1.fit(X_train, y_train)\n",
    "\n",
    "\n",
    "Decision_Tree_results1.best_estimator_\n",
    "Decision_Tree_results1.best_params_"
   ]
  },
  {
   "cell_type": "code",
   "execution_count": 83,
   "metadata": {},
   "outputs": [
    {
     "name": "stdout",
     "output_type": "stream",
     "text": [
      "[False False False ... False False False]\n",
      "[False False False ...  True  True False]\n"
     ]
    }
   ],
   "source": [
    "Predict_y_test_dt = Decision_Tree_results1.best_estimator_.predict(X_test)\n",
    "Predict_y_train_dt= Decision_Tree_results1.best_estimator_.predict(X_train)\n",
    "print(Predict_y_test_dt)\n",
    "print(Predict_y_train_dt)"
   ]
  },
  {
   "cell_type": "code",
   "execution_count": 84,
   "metadata": {},
   "outputs": [
    {
     "name": "stdout",
     "output_type": "stream",
     "text": [
      "Test Score:  88.50%\n"
     ]
    }
   ],
   "source": [
    "print(f'Test Score: {Decision_Tree_results1.score(X_test, y_test): .2%}')"
   ]
  },
  {
   "cell_type": "code",
   "execution_count": 85,
   "metadata": {},
   "outputs": [
    {
     "name": "stdout",
     "output_type": "stream",
     "text": [
      "Train Score:  88.40%\n"
     ]
    }
   ],
   "source": [
    "print(f'Train Score: {Decision_Tree_results1.score(X_train, y_train): .2%}')"
   ]
  },
  {
   "cell_type": "code",
   "execution_count": 86,
   "metadata": {},
   "outputs": [
    {
     "data": {
      "text/plain": [
       "array([[14704,   430],\n",
       "       [ 1869,  2997]], dtype=int64)"
      ]
     },
     "execution_count": 86,
     "metadata": {},
     "output_type": "execute_result"
    }
   ],
   "source": [
    "confusion_matrix(y_test,Predict_y_test_dt)"
   ]
  },
  {
   "cell_type": "code",
   "execution_count": 87,
   "metadata": {
    "scrolled": true
   },
   "outputs": [
    {
     "name": "stdout",
     "output_type": "stream",
     "text": [
      "              precision    recall  f1-score   support\n",
      "\n",
      "       False       0.89      0.97      0.93     15134\n",
      "        True       0.87      0.62      0.72      4866\n",
      "\n",
      "    accuracy                           0.89     20000\n",
      "   macro avg       0.88      0.79      0.83     20000\n",
      "weighted avg       0.88      0.89      0.88     20000\n",
      "\n"
     ]
    }
   ],
   "source": [
    "print(classification_report(y_test, Decision_Tree_results1.best_estimator_.predict(X_test)))"
   ]
  },
  {
   "cell_type": "code",
   "execution_count": 88,
   "metadata": {
    "scrolled": true
   },
   "outputs": [
    {
     "name": "stdout",
     "output_type": "stream",
     "text": [
      "Accuracy Score:88.50%\n",
      "Precision Score:88.09%\n",
      "Recall Score:79.37%\n"
     ]
    }
   ],
   "source": [
    "print(f'Accuracy Score:{accuracy_score(y_test,Predict_y_test_dt):.2%}')\n",
    "print(f'Precision Score:{precision_score(y_test,Predict_y_test_dt,average=\"macro\"):.2%}')\n",
    "print(f'Recall Score:{recall_score(y_test,Predict_y_test_dt,average=\"macro\"):.2%}')"
   ]
  },
  {
   "cell_type": "code",
   "execution_count": 89,
   "metadata": {},
   "outputs": [
    {
     "name": "stdout",
     "output_type": "stream",
     "text": [
      "F1 Score:72.28%\n"
     ]
    }
   ],
   "source": [
    "print(f'F1 Score:{f1_score(y_test,Predict_y_test_dt):.2%}')"
   ]
  },
  {
   "cell_type": "markdown",
   "metadata": {},
   "source": [
    "#### Second Iteration"
   ]
  },
  {
   "cell_type": "code",
   "execution_count": 90,
   "metadata": {},
   "outputs": [
    {
     "data": {
      "text/plain": [
       "{'dt__max_depth': 16, 'dt__min_samples_leaf': 1, 'dt__min_samples_split': 4}"
      ]
     },
     "execution_count": 90,
     "metadata": {},
     "output_type": "execute_result"
    }
   ],
   "source": [
    "dtr_pipeline = Pipeline([\n",
    "    ('processing_pipeline', Processing_Pipeline),\n",
    "    ('dt', DecisionTreeClassifier())]\n",
    ")\n",
    "\n",
    "param_grid = [\n",
    "  {'dt__max_depth': [14,15,16],\n",
    "   'dt__min_samples_split':[4,5,6],\n",
    "   'dt__min_samples_leaf': [1,2,3]\n",
    "  }\n",
    " ]\n",
    "\n",
    "Decision_Tree_results2 = GridSearchCV(estimator=dtr_pipeline, \n",
    "                           param_grid=param_grid, scoring='accuracy', refit=True)\n",
    "Decision_Tree_results2 = Decision_Tree_results2.fit(X_train, y_train)\n",
    "\n",
    "\n",
    "Decision_Tree_results2.best_estimator_\n",
    "Decision_Tree_results2.best_params_"
   ]
  },
  {
   "cell_type": "code",
   "execution_count": 91,
   "metadata": {},
   "outputs": [
    {
     "name": "stdout",
     "output_type": "stream",
     "text": [
      "[False False False ... False False False]\n",
      "[ True False False ...  True  True False]\n"
     ]
    }
   ],
   "source": [
    "Predict_y_test_dtr = Decision_Tree_results2.best_estimator_.predict(X_test)\n",
    "Predict_y_train_dtr = Decision_Tree_results2.best_estimator_.predict(X_train)\n",
    "print(Predict_y_test_dtr)\n",
    "print(Predict_y_train_dtr)"
   ]
  },
  {
   "cell_type": "code",
   "execution_count": 92,
   "metadata": {},
   "outputs": [
    {
     "name": "stdout",
     "output_type": "stream",
     "text": [
      "Test Score:  88.45%\n"
     ]
    }
   ],
   "source": [
    "print(f'Test Score: {Decision_Tree_results2.score(X_test, y_test): .2%}')"
   ]
  },
  {
   "cell_type": "code",
   "execution_count": 93,
   "metadata": {
    "scrolled": true
   },
   "outputs": [
    {
     "name": "stdout",
     "output_type": "stream",
     "text": [
      "Train Score:  88.64%\n"
     ]
    }
   ],
   "source": [
    "print(f'Train Score: {Decision_Tree_results2.score(X_train, y_train): .2%}')"
   ]
  },
  {
   "cell_type": "code",
   "execution_count": 94,
   "metadata": {},
   "outputs": [
    {
     "data": {
      "text/plain": [
       "array([[14670,   464],\n",
       "       [ 1845,  3021]], dtype=int64)"
      ]
     },
     "execution_count": 94,
     "metadata": {},
     "output_type": "execute_result"
    }
   ],
   "source": [
    "confusion_matrix(y_test,Predict_y_test_dtr)"
   ]
  },
  {
   "cell_type": "code",
   "execution_count": 95,
   "metadata": {},
   "outputs": [
    {
     "name": "stdout",
     "output_type": "stream",
     "text": [
      "              precision    recall  f1-score   support\n",
      "\n",
      "       False       0.89      0.97      0.93     15134\n",
      "        True       0.87      0.62      0.72      4866\n",
      "\n",
      "    accuracy                           0.88     20000\n",
      "   macro avg       0.88      0.80      0.83     20000\n",
      "weighted avg       0.88      0.88      0.88     20000\n",
      "\n"
     ]
    }
   ],
   "source": [
    "print(classification_report(y_test, Decision_Tree_results2.best_estimator_.predict(X_test)))"
   ]
  },
  {
   "cell_type": "code",
   "execution_count": 96,
   "metadata": {
    "scrolled": true
   },
   "outputs": [
    {
     "name": "stdout",
     "output_type": "stream",
     "text": [
      "Accuracy Score:88.45%\n",
      "Precision Score:87.76%\n",
      "Recall Score:79.51%\n"
     ]
    }
   ],
   "source": [
    "print(f'Accuracy Score:{accuracy_score(y_test,Predict_y_test_dtr):.2%}')\n",
    "print(f'Precision Score:{precision_score(y_test,Predict_y_test_dtr,average=\"macro\"):.2%}')\n",
    "print(f'Recall Score:{recall_score(y_test,Predict_y_test_dtr,average=\"macro\"):.2%}')"
   ]
  },
  {
   "cell_type": "code",
   "execution_count": 97,
   "metadata": {},
   "outputs": [
    {
     "name": "stdout",
     "output_type": "stream",
     "text": [
      "F1 Score:72.35%\n"
     ]
    }
   ],
   "source": [
    "print(f'F1 Score:{f1_score(y_test,Predict_y_test_dtr):.2%}')"
   ]
  },
  {
   "cell_type": "markdown",
   "metadata": {},
   "source": [
    "#### Here if we observe the two iterations are being worked and we got the accurate scores for both iteration and the model is fitted here."
   ]
  },
  {
   "cell_type": "markdown",
   "metadata": {},
   "source": [
    "### ROC curve "
   ]
  },
  {
   "cell_type": "code",
   "execution_count": 98,
   "metadata": {
    "scrolled": true
   },
   "outputs": [
    {
     "data": {
      "image/png": "[encoded data removed]",
      "text/plain": [
       "<Figure size 432x288 with 1 Axes>"
      ]
     },
     "metadata": {},
     "output_type": "display_data"
    }
   ],
   "source": [
    "def generate_probs(X, model=Decision_Tree_results2.best_estimator_):\n",
    "  return model.predict_proba(X)[:, 1]\n",
    "def generate_roc(y,probs):\n",
    "    fpr, tpr, _ = roc_curve(y, probs,pos_label=True)\n",
    "    return fpr,tpr\n",
    "fpr_test, tpr_test = generate_roc(y_test, generate_probs(X_test))\n",
    "fpr_train, tpr_train = generate_roc(y_train, generate_probs(X_train))\n",
    "\n",
    "plt.plot(fpr_test, tpr_test,'-*r')\n",
    "plt.plot(fpr_train, tpr_train,'-b')\n",
    "plt.xlabel('Flase Positive Rate')\n",
    "plt.ylabel('True Positive Rate')\n",
    "plt.legend(['Test','Training'])\n",
    "plt.plot([1,0],[1,0], color='lime', linestyle=\"--\")\n",
    "plt.show()"
   ]
  },
  {
   "cell_type": "code",
   "execution_count": 99,
   "metadata": {},
   "outputs": [
    {
     "name": "stdout",
     "output_type": "stream",
     "text": [
      "Roc_Accuracy_Score:86.98%\n"
     ]
    }
   ],
   "source": [
    "print(f'Roc_Accuracy_Score:{roc_auc_score(y_test, generate_probs(X_test)):.2%}')"
   ]
  },
  {
   "cell_type": "markdown",
   "metadata": {},
   "source": [
    "### KNN- Model\n"
   ]
  },
  {
   "cell_type": "code",
   "execution_count": 100,
   "metadata": {},
   "outputs": [
    {
     "data": {
      "text/plain": [
       "Pipeline(steps=[('processing_pipeline',\n",
       "                 ColumnTransformer(transformers=[('create_dummies',\n",
       "                                                  Pipeline(steps=[('impute_missing',\n",
       "                                                                   SimpleImputer(strategy='most_frequent')),\n",
       "                                                                  ('create_dummies_cats',\n",
       "                                                                   OneHotEncoder(handle_unknown='ignore'))]),\n",
       "                                                  ['Case Number', 'IUCR',\n",
       "                                                   'Primary Type',\n",
       "                                                   'FBI Code'])])),\n",
       "                ('model',\n",
       "                 KNeighborsClassifier(n_neighbors=15, weights='distance'))])"
      ]
     },
     "execution_count": 100,
     "metadata": {},
     "output_type": "execute_result"
    }
   ],
   "source": [
    "knn_pipeline = Pipeline([('processing_pipeline',Processing_Pipeline),\n",
    "                                       ('model', KNeighborsClassifier())])\n",
    "\n",
    "\n",
    "param_grid = [\n",
    "  {'model__n_neighbors': [1, 4, 8, 10, 15], 'model__weights': ['uniform','distance']}\n",
    " ]\n",
    "\n",
    "knn_results = GridSearchCV(estimator=knn_pipeline, param_grid=param_grid, scoring='accuracy', refit=True, cv=5)\n",
    "knn_results = knn_results.fit(X_train, y_train)\n",
    "knn_results.best_estimator_"
   ]
  },
  {
   "cell_type": "code",
   "execution_count": 101,
   "metadata": {
    "scrolled": true
   },
   "outputs": [
    {
     "name": "stdout",
     "output_type": "stream",
     "text": [
      "[False False False ... False False False]\n",
      "[ True False False ...  True  True False]\n"
     ]
    }
   ],
   "source": [
    "Predict_y_test_knn = knn_results.best_estimator_.predict(X_test)\n",
    "Predict_y_train_knn = knn_results.best_estimator_.predict(X_train)\n",
    "print(Predict_y_test_knn)\n",
    "print(Predict_y_train_knn)"
   ]
  },
  {
   "cell_type": "code",
   "execution_count": 102,
   "metadata": {},
   "outputs": [
    {
     "name": "stdout",
     "output_type": "stream",
     "text": [
      "Test Score:  87.63%\n"
     ]
    }
   ],
   "source": [
    "print(f'Test Score: {knn_results.score(X_test, y_test): .2%}')"
   ]
  },
  {
   "cell_type": "code",
   "execution_count": 103,
   "metadata": {},
   "outputs": [
    {
     "name": "stdout",
     "output_type": "stream",
     "text": [
      "Train Score:  100.00%\n"
     ]
    }
   ],
   "source": [
    "print(f'Train Score: {knn_results.score(X_train, y_train): .2%}')"
   ]
  },
  {
   "cell_type": "code",
   "execution_count": 104,
   "metadata": {},
   "outputs": [
    {
     "data": {
      "text/plain": [
       "array([[14817,   317],\n",
       "       [ 2156,  2710]], dtype=int64)"
      ]
     },
     "execution_count": 104,
     "metadata": {},
     "output_type": "execute_result"
    }
   ],
   "source": [
    "confusion_matrix(y_test,Predict_y_test_knn)"
   ]
  },
  {
   "cell_type": "code",
   "execution_count": 105,
   "metadata": {},
   "outputs": [
    {
     "name": "stdout",
     "output_type": "stream",
     "text": [
      "              precision    recall  f1-score   support\n",
      "\n",
      "       False       0.87      0.98      0.92     15134\n",
      "        True       0.90      0.56      0.69      4866\n",
      "\n",
      "    accuracy                           0.88     20000\n",
      "   macro avg       0.88      0.77      0.80     20000\n",
      "weighted avg       0.88      0.88      0.87     20000\n",
      "\n"
     ]
    }
   ],
   "source": [
    "print(classification_report(y_test, knn_results.best_estimator_.predict(X_test)))"
   ]
  },
  {
   "cell_type": "code",
   "execution_count": 106,
   "metadata": {},
   "outputs": [
    {
     "name": "stdout",
     "output_type": "stream",
     "text": [
      "Accuracy Score:87.63%\n",
      "Precision Score:88.41%\n",
      "Recall Score:76.80%\n"
     ]
    }
   ],
   "source": [
    "print(f'Accuracy Score:{accuracy_score(y_test,Predict_y_test_knn):.2%}')\n",
    "print(f'Precision Score:{precision_score(y_test,Predict_y_test_knn,average=\"macro\"):.2%}')\n",
    "print(f'Recall Score:{recall_score(y_test,Predict_y_test_knn,average=\"macro\"):.2%}')"
   ]
  },
  {
   "cell_type": "code",
   "execution_count": 107,
   "metadata": {},
   "outputs": [
    {
     "name": "stdout",
     "output_type": "stream",
     "text": [
      "F1 Score:68.67%\n"
     ]
    }
   ],
   "source": [
    "print(f'F1 Score:{f1_score(y_test,Predict_y_test_knn):.2%}')"
   ]
  },
  {
   "cell_type": "code",
   "execution_count": 108,
   "metadata": {},
   "outputs": [
    {
     "data": {
      "image/png": "[encoded data removed]",
      "text/plain": [
       "<Figure size 432x288 with 1 Axes>"
      ]
     },
     "metadata": {},
     "output_type": "display_data"
    }
   ],
   "source": [
    "def generate_probs(X, model= knn_results.best_estimator_):\n",
    "  return model.predict_proba(X)[:, 1]\n",
    "def generate_roc(y,probs):\n",
    "    fpr, tpr, _ = roc_curve(y, probs,pos_label=True)\n",
    "    return fpr,tpr\n",
    "fpr_test, tpr_test = generate_roc(y_test, generate_probs(X_test))\n",
    "fpr_train, tpr_train = generate_roc(y_train, generate_probs(X_train))\n",
    "\n",
    "plt.plot(fpr_test, tpr_test,'-*r')\n",
    "plt.plot(fpr_train, tpr_train,'-b')\n",
    "plt.xlabel('Flase Positive Rate')\n",
    "plt.ylabel('True Positive Rate')\n",
    "plt.legend(['Test','Training'])\n",
    "plt.plot([1,0],[1,0], color='olivedrab', linestyle=\"--\")\n",
    "plt.show()"
   ]
  },
  {
   "cell_type": "code",
   "execution_count": 109,
   "metadata": {
    "scrolled": true
   },
   "outputs": [
    {
     "name": "stdout",
     "output_type": "stream",
     "text": [
      "Roc_Accuracy_Score:88.08%\n"
     ]
    }
   ],
   "source": [
    "print(f'Roc_Accuracy_Score:{roc_auc_score(y_test, generate_probs(X_test)):.2%}')"
   ]
  },
  {
   "cell_type": "markdown",
   "metadata": {},
   "source": [
    "### Results"
   ]
  },
  {
   "cell_type": "markdown",
   "metadata": {},
   "source": [
    "### Logistic Regression Classifier\n",
    "1. Logistic Regression Score: 88.60%\n",
    "2. ROC-Auccuracy Score: 90.20%\n",
    "3. F1-Score: 72.96%\n"
   ]
  },
  {
   "cell_type": "markdown",
   "metadata": {},
   "source": [
    "### Decision-Tree Classifier\n",
    "1. Logistic Regression Score: 88.08%\n",
    "2. ROC-Auccuracy Score: 86.98%\n",
    "3. F1-Score: 68.67%"
   ]
  },
  {
   "cell_type": "markdown",
   "metadata": {},
   "source": [
    "### KNN-Model \n",
    "1. Logistic Regression Score: 88.08%\n",
    "2. ROC-Auccuracy Score: 87.63%\n",
    "3. F1-Score: 68.67%"
   ]
  },
  {
   "cell_type": "markdown",
   "metadata": {},
   "source": [
    "### Final model selection\n",
    "As we observe here \"logistic regression model\" performs well as it got 90% accuracy. So, I selected this as the best model for my data."
   ]
  },
  {
   "cell_type": "markdown",
   "metadata": {},
   "source": [
    "### Summary"
   ]
  },
  {
   "cell_type": "markdown",
   "metadata": {},
   "source": [
    "1. Logistic regression performs well among the decision tree model and KNN-model.\n",
    "2. The roc accuracy score is higher for the logistic regression as it maintains 90.01% \n",
    "3. And also comparing the F1 score among the models here also the logistic regression is best with 72.61%. But here in this case both logistic regression and KNN-Model are same with same score so, logistic regression is the best model for this data\n",
    "4. Coming to the crimes most of the crimes are theft based, in 10th district the crimes are high and also most of the crimes occured in 10th month i.e., October.\n"
   ]
  },
  {
   "cell_type": "markdown",
   "metadata": {},
   "source": [
    "### Further Exploration"
   ]
  },
  {
   "cell_type": "markdown",
   "metadata": {},
   "source": [
    "1. A typical approach is, to improve a model to use more data. In this case, I have only taken the chunk data i.e., upto 100000 but including whole can improve the overall score as taking the chunk lot of data got missed like number of years or months.\n",
    "2. We could try various techniques, such as a complicated neural network, but this could lead to additional problems and is overkill.\n",
    "3. For more exploration we can use ensemble models, by using this the scores may get imporved."
   ]
  },
  {
   "cell_type": "markdown",
   "metadata": {},
   "source": [
    "### References"
   ]
  },
  {
   "cell_type": "markdown",
   "metadata": {},
   "source": [
    "1. https://www.geeksforgeeks.org/how-to-load-a-massive-file-as-small-chunks-in-pandas/\n",
    "2. https://scikit-learn.org/stable/modules/generated/sklearn.linear_model.LogisticRegression.html\n",
    "3. https://scikit-learn.org/stable/modules/tree.html\n",
    "4. https://scikit-learn.org/stable/modules/generated/sklearn.neighbors.KNeighborsClassifier.html\n",
    "5. https://scikit-learn.org/stable/modules/generated/sklearn.metrics.roc_curve.html"
   ]
  },
  {
   "cell_type": "code",
   "execution_count": null,
   "metadata": {},
   "outputs": [],
   "source": []
  }
 ],
 "metadata": {
  "colab": {
   "name": "602-Final-Project.ipynb",
   "provenance": []
  },
  "kernelspec": {
   "display_name": "Python 3",
   "language": "python",
   "name": "python3"
  },
  "language_info": {
   "codemirror_mode": {
    "name": "ipython",
    "version": 3
   },
   "file_extension": ".py",
   "mimetype": "text/x-python",
   "name": "python",
   "nbconvert_exporter": "python",
   "pygments_lexer": "ipython3",
   "version": "3.10.7"
  },
  "vscode": {
   "interpreter": {
    "hash": "a60813b76ce886337399e56f954e19adc98052a82585e0e5716fb11c0fbfe9db"
   }
  }
 },
 "nbformat": 4,
 "nbformat_minor": 1
}
